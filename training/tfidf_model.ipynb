{
 "cells": [
  {
   "cell_type": "markdown",
   "metadata": {},
   "source": [
    "# Bug Classifcation using Natural Language Processing\n",
    "The following project uses a Natural Language Processing model to read in bug descriptions submitted by the Global Customer Support Desk, internal Pega employees, and pega customers, and assign these bugs to the relevant backlogs in Agile Studio.\n",
    "\n",
    "To perform bug assignment, we first pre-process bug descriptions and subject lines. Then, we convert each bug description to a TF/ IDF vector. Finally, we use a Deep Learning model to extract insights from the TF/IDF scores and train that model to perform accurate classifications.\n",
    "\n",
    "At the prediction phase, we apply confidence bounding using [Monte Carlo dropout](https://arxiv.org/pdf/1506.02142.pdf). Using this approach, we can choose the threshold confidence score that best suits our needs - the model will automatically route bugs to the appropriate backlogs if it can generate a prediction above the confidence threshold (a high confidence prediction) and will route bugs that it cannot confidently place into a queue for human review. Stakeholders at Pega can choose a proper trade off between accuracy and efficiency by tweaking the confidence threshold to the desired value."
   ]
  },
  {
   "cell_type": "markdown",
   "metadata": {},
   "source": [
    "## Step 1: Install Packages.\n",
    "The first script, [`install_conda.sh`](../nlp_engine/install_conda.sh), installs [miniconda](https://docs.conda.io/en/latest/miniconda.html) and sets up an environment called `nlp-workspace`. You can learn more about conda environments [here](https://docs.conda.io/projects/conda/en/latest/user-guide/tasks/manage-environments.html). The environment essentially acts as a sand-boxed virtual machine where we keep all of the code dependencies. As you can see by inspecting the install script, we use python 3.7 as our base. Further, we install the `nb_conda` package. This package allows us to select an environment on a Jupyter Notebook (nb). Once the `install_conda` script has been run, you should be able to open a jupyter notebook on your host machine and select `Python (nlp-workspace)` as the kernel.\n",
    "\n",
    "\n",
    "The second script, [`install_packages.sh`](../nlp_engine/install_packages.sh), installs all of the requisite python packages necessary to train the machine learning model and deploy it. After successfully running this script, the environment should have all of the necessary packages and all imports should work correctly."
   ]
  },
  {
   "cell_type": "code",
   "execution_count": 1,
   "metadata": {},
   "outputs": [],
   "source": [
    "# Uncomment this entire selection to perform the requisite installs\n",
    "#%%capture # The capture tag suppresses output. Comment it out if you want to see installation script output.\n",
    "#!bash ../nlp_engine/install_conda.sh\n",
    "#!bash ../nlp_engine/install_packages.sh"
   ]
  },
  {
   "cell_type": "code",
   "execution_count": 2,
   "metadata": {
    "slideshow": {
     "slide_type": "slide"
    }
   },
   "outputs": [
    {
     "name": "stdout",
     "output_type": "stream",
     "text": [
      "Version:  2.0.1\n",
      "Eager mode:  True\n",
      "GPU is available\n"
     ]
    }
   ],
   "source": [
    "# Import all needed libraries from the `nlp-workspace` environment\n",
    "import pandas as pd\n",
    "import numpy as np\n",
    "\n",
    "from sklearn.model_selection import train_test_split\n",
    "from sklearn.dummy import DummyClassifier\n",
    "from sklearn.feature_extraction.text import TfidfVectorizer, HashingVectorizer\n",
    "from sklearn import metrics\n",
    "\n",
    "import tensorflow as tf\n",
    "from tensorflow import keras\n",
    "from tensorflow.keras import layers\n",
    "from tensorflow.keras.models import Sequential\n",
    "from tensorflow.keras.layers import Dense, Embedding, LSTM, GRU, Dropout, Flatten, Input, Activation, PReLU, LeakyReLU, ThresholdedReLU\n",
    "\n",
    "import matplotlib.pyplot as plt\n",
    "import seaborn as sns; sns.set()\n",
    "\n",
    "import pickle\n",
    "from tqdm import tqdm\n",
    "\n",
    "print(\"Version: \", tf.__version__)\n",
    "print(\"Eager mode: \", tf.executing_eagerly())\n",
    "print(\"GPU is\", \"available\" if tf.config.experimental.list_physical_devices(\"GPU\") else \"NOT AVAILABLE\")"
   ]
  },
  {
   "cell_type": "markdown",
   "metadata": {},
   "source": [
    "## Step 2: Pull in additional libraries.\n",
    "Here, we pull in additional libraries that we created to perform standard NLP test preprocessing and convenience functions for machine learning.\n",
    "You can inspect the functions we pull in here by taking a look at our [`MLFunctions`](../nlp_engine/MLFunctions.py) file or our [`Preprocessing`](../nlp_engine/Preprocessing.py) file."
   ]
  },
  {
   "cell_type": "code",
   "execution_count": 3,
   "metadata": {},
   "outputs": [
    {
     "name": "stdout",
     "output_type": "stream",
     "text": [
      "Spacy model is using GPU\n"
     ]
    }
   ],
   "source": [
    "import sys\n",
    "sys.path.insert(1, '../nlp_engine')\n",
    "from MLFunctions import PrintDot, plot_history, clear_memory, test_with_uncertainty, \\\n",
    "                        predict_with_uncertainty, get_monte_carlo_accuracy, graph_confidence\n",
    "from Preprocessing import preprocess_training_text, preprocess_training_text_with_stops"
   ]
  },
  {
   "cell_type": "markdown",
   "metadata": {},
   "source": [
    "## Step 3: Read-in and Clean Data\n",
    "Here, we read in the email bug data and eliminate training examples that will not be useful to out model. Starting with the original dataset, we\n",
    "1. **Eliminate** \n",
    "    - bugs that were not assigned to a backlog \n",
    "    - bugs that were not assigned to a team (i.e. bugs that were never resolved)\n",
    "    - bugs that lack a description or label\n",
    "    \n",
    "    \n",
    "2. **Remove duplicate entries, if they exist.**\n",
    "\n",
    "3. **Remove backlogs that have been assigned less than 40 training examples.** Backlogs that have been assigned less than this number will be prone to model over-fitting, since they are so underrepresented in a dataset of the size we are working with. As such, we remove them to avoid inaccurate classifications. We settled on the number 40 after experimenting with a variety of different thresholds, but you may want to change this threshold as you collect additional training data to be fed into the model."
   ]
  },
  {
   "cell_type": "code",
   "execution_count": 4,
   "metadata": {},
   "outputs": [
    {
     "data": {
      "text/html": [
       "<div>\n",
       "<style scoped>\n",
       "    .dataframe tbody tr th:only-of-type {\n",
       "        vertical-align: middle;\n",
       "    }\n",
       "\n",
       "    .dataframe tbody tr th {\n",
       "        vertical-align: top;\n",
       "    }\n",
       "\n",
       "    .dataframe thead th {\n",
       "        text-align: right;\n",
       "    }\n",
       "</style>\n",
       "<table border=\"1\" class=\"dataframe\">\n",
       "  <thead>\n",
       "    <tr style=\"text-align: right;\">\n",
       "      <th></th>\n",
       "      <th>work_id</th>\n",
       "      <th>label</th>\n",
       "      <th>description</th>\n",
       "      <th>status</th>\n",
       "      <th>team_id</th>\n",
       "      <th>team_name</th>\n",
       "      <th>backlog_id</th>\n",
       "      <th>backlog_name</th>\n",
       "      <th>feature_id</th>\n",
       "      <th>feature_name</th>\n",
       "    </tr>\n",
       "  </thead>\n",
       "  <tbody>\n",
       "    <tr>\n",
       "      <th>0</th>\n",
       "      <td>BUG-530021</td>\n",
       "      <td>Issues with Reports and Notifications</td>\n",
       "      <td>Hi Team,\\n\\n\\n\\nThis is to report 2 issues.\\n\\...</td>\n",
       "      <td>Resolved-Enhancement</td>\n",
       "      <td>PROJ-10002</td>\n",
       "      <td>Cloud - Beyonders</td>\n",
       "      <td>BL-3339</td>\n",
       "      <td>Cloud</td>\n",
       "      <td>NaN</td>\n",
       "      <td>NaN</td>\n",
       "    </tr>\n",
       "    <tr>\n",
       "      <th>1</th>\n",
       "      <td>BUG-528121</td>\n",
       "      <td>OPD-PROD: Pre schedule validation stuck in pro...</td>\n",
       "      <td>Pre-scheduled validation is stuck at in-progre...</td>\n",
       "      <td>Resolved-Completed</td>\n",
       "      <td>PROJ-10002</td>\n",
       "      <td>Cloud - Beyonders</td>\n",
       "      <td>BL-3339</td>\n",
       "      <td>Cloud</td>\n",
       "      <td>FR-9155</td>\n",
       "      <td>Scheduling Patch Installs</td>\n",
       "    </tr>\n",
       "    <tr>\n",
       "      <th>2</th>\n",
       "      <td>BUG-529279</td>\n",
       "      <td>For inflight DBupgrde tasks, Validation tasks ...</td>\n",
       "      <td>For inflight DBupgrde tasks, Validation tasks ...</td>\n",
       "      <td>Resolved-Completed</td>\n",
       "      <td>PROJ-10002</td>\n",
       "      <td>Cloud - Beyonders</td>\n",
       "      <td>BL-3339</td>\n",
       "      <td>Cloud</td>\n",
       "      <td>FR-8238</td>\n",
       "      <td>Global Operations Console (GOC)</td>\n",
       "    </tr>\n",
       "    <tr>\n",
       "      <th>3</th>\n",
       "      <td>BUG-528748</td>\n",
       "      <td>Issues in Q_7.22</td>\n",
       "      <td>1. Create a VCR dispute\\n\\r\\n2. Select Quality...</td>\n",
       "      <td>Resolved-Completed</td>\n",
       "      <td>PROJ-10005</td>\n",
       "      <td>20.1 Compliance for SD Issuers and Acquirers</td>\n",
       "      <td>GRP-15763</td>\n",
       "      <td>FS - Smart Dispute - Issuer Compliance Backlog</td>\n",
       "      <td>NaN</td>\n",
       "      <td>NaN</td>\n",
       "    </tr>\n",
       "    <tr>\n",
       "      <th>4</th>\n",
       "      <td>BUG-537524</td>\n",
       "      <td>Incorrect Deadline value in overview tab</td>\n",
       "      <td>Steps to reproduce:\\n\\n1. Login to QA server w...</td>\n",
       "      <td>New</td>\n",
       "      <td>PROJ-10005</td>\n",
       "      <td>20.1 Compliance for SD Issuers and Acquirers</td>\n",
       "      <td>GRP-15763</td>\n",
       "      <td>FS - Smart Dispute - Issuer Compliance Backlog</td>\n",
       "      <td>NaN</td>\n",
       "      <td>NaN</td>\n",
       "    </tr>\n",
       "  </tbody>\n",
       "</table>\n",
       "</div>"
      ],
      "text/plain": [
       "      work_id                                              label  \\\n",
       "0  BUG-530021              Issues with Reports and Notifications   \n",
       "1  BUG-528121  OPD-PROD: Pre schedule validation stuck in pro...   \n",
       "2  BUG-529279  For inflight DBupgrde tasks, Validation tasks ...   \n",
       "3  BUG-528748                                   Issues in Q_7.22   \n",
       "4  BUG-537524           Incorrect Deadline value in overview tab   \n",
       "\n",
       "                                         description                status  \\\n",
       "0  Hi Team,\\n\\n\\n\\nThis is to report 2 issues.\\n\\...  Resolved-Enhancement   \n",
       "1  Pre-scheduled validation is stuck at in-progre...    Resolved-Completed   \n",
       "2  For inflight DBupgrde tasks, Validation tasks ...    Resolved-Completed   \n",
       "3  1. Create a VCR dispute\\n\\r\\n2. Select Quality...    Resolved-Completed   \n",
       "4  Steps to reproduce:\\n\\n1. Login to QA server w...                   New   \n",
       "\n",
       "      team_id                                     team_name backlog_id  \\\n",
       "0  PROJ-10002                             Cloud - Beyonders    BL-3339   \n",
       "1  PROJ-10002                             Cloud - Beyonders    BL-3339   \n",
       "2  PROJ-10002                             Cloud - Beyonders    BL-3339   \n",
       "3  PROJ-10005  20.1 Compliance for SD Issuers and Acquirers  GRP-15763   \n",
       "4  PROJ-10005  20.1 Compliance for SD Issuers and Acquirers  GRP-15763   \n",
       "\n",
       "                                     backlog_name feature_id  \\\n",
       "0                                           Cloud        NaN   \n",
       "1                                           Cloud    FR-9155   \n",
       "2                                           Cloud    FR-8238   \n",
       "3  FS - Smart Dispute - Issuer Compliance Backlog        NaN   \n",
       "4  FS - Smart Dispute - Issuer Compliance Backlog        NaN   \n",
       "\n",
       "                      feature_name  \n",
       "0                              NaN  \n",
       "1        Scheduling Patch Installs  \n",
       "2  Global Operations Console (GOC)  \n",
       "3                              NaN  \n",
       "4                              NaN  "
      ]
     },
     "execution_count": 4,
     "metadata": {},
     "output_type": "execute_result"
    }
   ],
   "source": [
    "# Read in data & rename columns\n",
    "email_bugs = pd.read_csv(\"../data/csvs/bug_emails.csv\")\n",
    "email_bugs = email_bugs.rename(columns={\"Work ID\" : \"work_id\", \"Label\" : \"label\", \"Description\" : \"description\", \n",
    "                             \"Status\" : \"status\", \"Team ID\" : \"team_id\", \"Team Name\" : \"team_name\", \n",
    "                             \"Backlog ID\" : \"backlog_id\", \"Backlog Name\" : \"backlog_name\", \"Feature ID\" : \"feature_id\", \n",
    "                             \"Feature Name\" : \"feature_name\"})\n",
    "\n",
    "# 1. Eliminate:\n",
    "assigned_bugs = email_bugs[email_bugs['backlog_id'].notnull()]   # bugs that were not assigned to a backlog\n",
    "assigned_bugs = assigned_bugs[assigned_bugs['team_id'].notnull()]  # bugs that lack a team\n",
    "assigned_bugs = assigned_bugs[assigned_bugs['description'].notnull()]  # bugs that lack a description\n",
    "assigned_bugs = assigned_bugs[assigned_bugs['label'].notnull()]        # or label\n",
    "\n",
    "# 2. Drop Duplicates:\n",
    "assigned_bugs.drop_duplicates(subset = \"work_id\", keep = False, inplace = True) # duplicate bugs\n",
    "\n",
    "# Visualize the dataset\n",
    "assigned_bugs.head()"
   ]
  },
  {
   "cell_type": "code",
   "execution_count": 5,
   "metadata": {},
   "outputs": [
    {
     "name": "stdout",
     "output_type": "stream",
     "text": [
      "Number of backlog IDs:  159\n",
      "Number of training samples:  7438\n"
     ]
    }
   ],
   "source": [
    "# Check current number of backlogs and samples\n",
    "print(\"Number of backlog IDs: \" , assigned_bugs['backlog_id'].nunique())\n",
    "print(\"Number of training samples: \" , len(assigned_bugs))"
   ]
  },
  {
   "cell_type": "code",
   "execution_count": 6,
   "metadata": {},
   "outputs": [
    {
     "name": "stdout",
     "output_type": "stream",
     "text": [
      "Backlog ID's remaining: 47\n",
      "Number of training samples remaining:  6245\n",
      "% of remaining training examples:  0.8396074213498252\n"
     ]
    }
   ],
   "source": [
    "# 3. Remove backlogs that have been assigned 40 or less training examples:\n",
    "former_length = len(assigned_bugs)\n",
    "bugs_per_id = assigned_bugs['backlog_id'].value_counts()\n",
    "valid_id_list = bugs_per_id[bugs_per_id > 40].index.tolist()\n",
    "assigned_bugs = assigned_bugs[assigned_bugs['backlog_id'].isin(valid_id_list)]\n",
    "\n",
    "print(\"Backlog ID's remaining:\", len(valid_id_list))\n",
    "print(\"Number of training samples remaining: \" , len(assigned_bugs))\n",
    "print(\"% of remaining training examples: \", len(assigned_bugs) / former_length)"
   ]
  },
  {
   "cell_type": "markdown",
   "metadata": {},
   "source": [
    "## Step 4: Preprocessing\n",
    "Below, we apply the preprocessing functions we created in our [`Preprocessing`](../nlp_engine/Preprocessing.py) library to our bug descriptions and subject lines ('label'). \n",
    "**The standard preprocessing function applies the following procedures to our bug descriptions:**\n",
    "- Strip HTML\n",
    "- Remove non-ascii characters (i.e. Unicode)\n",
    "- Remove excess whitespace (tabs, newlines, etc.)\n",
    "- Convert accented chars (café -> *cafe*)\n",
    "- Lowercase all characters\n",
    "- Remove numbers (*see note below*)\n",
    "- Remove punctuation\n",
    "- Expand contractions\n",
    "          don't → do not \n",
    "          I'll → I will be\n",
    "- Lemmatization \n",
    "          [Playing, plays, played]→ play\n",
    "          [am, are, is] → be\n",
    "- Remove stop words (the most common words in the English language)\n",
    "          buy a banana at market → buy banana market\n",
    "\n",
    "\n",
    "**Notes**:\n",
    "- You can choose to convert numbers into text (i.e. 7 -> seven) instead of removing them by setting the `convert_num` setting to `True` and the `remove_num` setting to `False`.\n",
    "- Any other of the preprocessing options can be changed simply by toying with the parameters, as you can see we have done with the `preprocess_with_caps` function below.\n",
    "\n",
    "---\n",
    "### Rationale:\n",
    "\n",
    "Each of the above procedures are designed to clean the text and increase its value in terms of the predictive power it delivers. \n",
    "\n",
    "**Lemmatization and contraction expansion** are designed to ensure that phrases and words that mean the same thing are always represented the same way in the text. This way, a machine learning model doesn't need to learn the relationship between play, played, plays, etc. and the prediction it is trying to make. Instead, it only needs to learn the relationship between the single word - play- and the prediction it is trying to make. Lemmatization and contraction expansion therefore work to better capture the semantic meaning of a text and remove variants that might confuse an ML model. \n",
    "\n",
    "**Removing stop words** helps to improve the value of a text by removing all words that lack predictive power, thus allowing an ML model to better \"attend to\" the words that matter.\n",
    "\n",
    "---\n",
    "### Usage:\n",
    "To use our preprocessing function we use the pandas [.apply syntax](https://pandas.pydata.org/pandas-docs/stable/reference/api/pandas.DataFrame.apply.html). When we call `dataframe.apply(function_name)`, we apply that function to all of the entries (bugs) in our DataFrame. When you run the below cells, note that the preprocessing function itself uses a pre-trained machine learning model ([from spacy](https://spacy.io/models)) to perform lemmatization and contraction expansion. As such, the process is computationally intensive. It takes a few minutes to run on a GPU machine, and likely longer on a standard CPU machine.\n",
    "\n",
    "---\n",
    "\n",
    "### Additional Steps:\n",
    "After we finish preprocessing, we **remove all bugs that contain 10 or leas words in the description field**, as these bugs are unlikely to contain enough inferencable information. We perform this step after preprocessing so that we do not include stop words, emails, URLs, numbers, or other non-word symbols in the word count.\n",
    "\n",
    "Its possible that bugs with this few words could have a descriptive subject line, but we found subject lines to be significantly less predictive than the description field, often including only generic descriptions or identification numbers that mean nothing to our model.\n",
    "\n",
    "In our dataset, there are only a few hundred bugs with descriptions of 10 or less words... because we remove them, however, it's worth noting that our model is likely to perform poorly if fed extremely short emails in production unless those emails contain keywords our model has been trained to utilize."
   ]
  },
  {
   "cell_type": "code",
   "execution_count": 7,
   "metadata": {},
   "outputs": [],
   "source": [
    "def preprocess_with_stops_caps(text):\n",
    "    return preprocess_training_text(text, accented_chars=True, contractions=True, \n",
    "                       convert_num=False, extra_whitespace=True, \n",
    "                       lemmatization=True, lowercase=False, punctuations=False,\n",
    "                       remove_html=True, remove_num=True, special_chars=True, \n",
    "                       stop_words=True)"
   ]
  },
  {
   "cell_type": "code",
   "execution_count": 8,
   "metadata": {},
   "outputs": [
    {
     "name": "stderr",
     "output_type": "stream",
     "text": [
      "/root/miniconda3/envs/nlp-workspace/lib/python3.7/site-packages/tqdm/std.py:668: FutureWarning: The Panel class is removed from pandas. Accessing it from the top-level namespace will also be removed in the next version\n",
      "  from pandas import Panel\n",
      "preproccessing descriptions: 100%|██████████| 6245/6245 [02:21<00:00, 44.27it/s]\n",
      "preproccessing labels: 100%|██████████| 6245/6245 [01:47<00:00, 58.16it/s]\n"
     ]
    }
   ],
   "source": [
    "# Run this cell to perform text preprocessing\n",
    "tqdm.pandas(desc=\"preproccessing descriptions\")\n",
    "assigned_bugs['description'] = assigned_bugs['description'].progress_apply(preprocess_training_text)\n",
    "tqdm.pandas(desc=\"preproccessing labels\")\n",
    "assigned_bugs['label'] = assigned_bugs['label'].progress_apply(preprocess_training_text)"
   ]
  },
  {
   "cell_type": "code",
   "execution_count": 9,
   "metadata": {},
   "outputs": [],
   "source": [
    "# Concatenate bug labels and descriptions, and create a `combined` data column in our `assigned_bugs` dataframe. \n",
    "# We will pass this data into our ML model, since the label + description combined contains more information than \n",
    "# either text field individually.\n",
    "assigned_bugs['combined'] = assigned_bugs['label'].map(str) + ' ' + assigned_bugs['description']"
   ]
  },
  {
   "cell_type": "code",
   "execution_count": 10,
   "metadata": {},
   "outputs": [
    {
     "name": "stdout",
     "output_type": "stream",
     "text": [
      "Number of training samples remaining:  5434\n"
     ]
    }
   ],
   "source": [
    "# Additional Step: Remove all bugs that contain 10 or less words in the description:\n",
    "assigned_bugs = assigned_bugs[assigned_bugs['description'].str.split().apply(len) > 10]\n",
    "print(\"Number of training samples remaining: \" , len(assigned_bugs))"
   ]
  },
  {
   "cell_type": "markdown",
   "metadata": {},
   "source": [
    "The below code snippet can be used to save pre-processed text to a pickle file.\n",
    "By saving the pre-processed text to a pickle, you avoid having to continuously\n",
    "re-run the preprocessing function each time you work with this code. \n",
    "\n",
    "**Once you have run preprocessing on your bug data once, you can skip running the above preprocessing cell and simply load the relevant pickle file to obtain processed text.**"
   ]
  },
  {
   "cell_type": "code",
   "execution_count": 11,
   "metadata": {},
   "outputs": [],
   "source": [
    "# Save the preprocessed bugs\n",
    "pd.to_pickle(assigned_bugs, \"../data/pickles/preprocessed_bugs.pkl\")"
   ]
  },
  {
   "cell_type": "code",
   "execution_count": 12,
   "metadata": {},
   "outputs": [],
   "source": [
    "# Restore the preprocessed bugs (run this to reload\n",
    "# preprocessed data)\n",
    "assigned_bugs = pd.read_pickle(\"../data/pickles/preprocessed_bugs.pkl\")"
   ]
  },
  {
   "cell_type": "markdown",
   "metadata": {},
   "source": [
    "### Check Bug Text\n",
    "Confirm that the text has been cleaned and processed correctly by examining the DataFrame:"
   ]
  },
  {
   "cell_type": "code",
   "execution_count": 13,
   "metadata": {},
   "outputs": [
    {
     "data": {
      "text/html": [
       "<div>\n",
       "<style scoped>\n",
       "    .dataframe tbody tr th:only-of-type {\n",
       "        vertical-align: middle;\n",
       "    }\n",
       "\n",
       "    .dataframe tbody tr th {\n",
       "        vertical-align: top;\n",
       "    }\n",
       "\n",
       "    .dataframe thead th {\n",
       "        text-align: right;\n",
       "    }\n",
       "</style>\n",
       "<table border=\"1\" class=\"dataframe\">\n",
       "  <thead>\n",
       "    <tr style=\"text-align: right;\">\n",
       "      <th></th>\n",
       "      <th>work_id</th>\n",
       "      <th>label</th>\n",
       "      <th>description</th>\n",
       "      <th>status</th>\n",
       "      <th>team_id</th>\n",
       "      <th>team_name</th>\n",
       "      <th>backlog_id</th>\n",
       "      <th>backlog_name</th>\n",
       "      <th>feature_id</th>\n",
       "      <th>feature_name</th>\n",
       "      <th>combined</th>\n",
       "    </tr>\n",
       "  </thead>\n",
       "  <tbody>\n",
       "    <tr>\n",
       "      <th>0</th>\n",
       "      <td>BUG-530021</td>\n",
       "      <td>issue  report  notification</td>\n",
       "      <td>hi  team  report  issue  pre  schedule  valida...</td>\n",
       "      <td>Resolved-Enhancement</td>\n",
       "      <td>PROJ-10002</td>\n",
       "      <td>Cloud - Beyonders</td>\n",
       "      <td>BL-3339</td>\n",
       "      <td>Cloud</td>\n",
       "      <td>NaN</td>\n",
       "      <td>NaN</td>\n",
       "      <td>issue  report  notification hi  team  report  ...</td>\n",
       "    </tr>\n",
       "    <tr>\n",
       "      <th>1</th>\n",
       "      <td>BUG-528121</td>\n",
       "      <td>opd  prod  pre  schedule  validation  stick  p...</td>\n",
       "      <td>pre  schedule  validation  stick  progress  go...</td>\n",
       "      <td>Resolved-Completed</td>\n",
       "      <td>PROJ-10002</td>\n",
       "      <td>Cloud - Beyonders</td>\n",
       "      <td>BL-3339</td>\n",
       "      <td>Cloud</td>\n",
       "      <td>FR-9155</td>\n",
       "      <td>Scheduling Patch Installs</td>\n",
       "      <td>opd  prod  pre  schedule  validation  stick  p...</td>\n",
       "    </tr>\n",
       "    <tr>\n",
       "      <th>2</th>\n",
       "      <td>BUG-529279</td>\n",
       "      <td>inflight  dbupgrde  task  validation  task  no...</td>\n",
       "      <td>inflight  dbupgrde  task  validation  task  in...</td>\n",
       "      <td>Resolved-Completed</td>\n",
       "      <td>PROJ-10002</td>\n",
       "      <td>Cloud - Beyonders</td>\n",
       "      <td>BL-3339</td>\n",
       "      <td>Cloud</td>\n",
       "      <td>FR-8238</td>\n",
       "      <td>Global Operations Console (GOC)</td>\n",
       "      <td>inflight  dbupgrde  task  validation  task  no...</td>\n",
       "    </tr>\n",
       "    <tr>\n",
       "      <th>39</th>\n",
       "      <td>BUG-530336</td>\n",
       "      <td>new  app  wizard  error</td>\n",
       "      <td>laura  protano  run  error  run  new  applicat...</td>\n",
       "      <td>Resolved-Completed</td>\n",
       "      <td>PROJ-10010</td>\n",
       "      <td>Zenith for Customer Service 8.5</td>\n",
       "      <td>BL-752</td>\n",
       "      <td>Pega Customer Service Development Backlog</td>\n",
       "      <td>NaN</td>\n",
       "      <td>NaN</td>\n",
       "      <td>new  app  wizard  error laura  protano  run  e...</td>\n",
       "    </tr>\n",
       "    <tr>\n",
       "      <th>48</th>\n",
       "      <td>BUG-530860</td>\n",
       "      <td>v  dx  api  automation  need  description  fix</td>\n",
       "      <td>swagger  generator  use  automation  short  de...</td>\n",
       "      <td>Resolved-Completed</td>\n",
       "      <td>PROJ-10015</td>\n",
       "      <td>DX APIs - CodeNinjas</td>\n",
       "      <td>GRP-13931</td>\n",
       "      <td>Platform UI Backlog</td>\n",
       "      <td>FR-8192</td>\n",
       "      <td>Web APIs</td>\n",
       "      <td>v  dx  api  automation  need  description  fix...</td>\n",
       "    </tr>\n",
       "    <tr>\n",
       "      <th>...</th>\n",
       "      <td>...</td>\n",
       "      <td>...</td>\n",
       "      <td>...</td>\n",
       "      <td>...</td>\n",
       "      <td>...</td>\n",
       "      <td>...</td>\n",
       "      <td>...</td>\n",
       "      <td>...</td>\n",
       "      <td>...</td>\n",
       "      <td>...</td>\n",
       "      <td>...</td>\n",
       "    </tr>\n",
       "    <tr>\n",
       "      <th>7561</th>\n",
       "      <td>BUG-534804</td>\n",
       "      <td>qa  incorrect  sale  support  manager  onboard...</td>\n",
       "      <td>url  prweb  step  reproduce  login  john  john...</td>\n",
       "      <td>Resolved-CannotRecreate</td>\n",
       "      <td>PROJ-9995</td>\n",
       "      <td>Symphony [PCLM] 8.4</td>\n",
       "      <td>BL-9394</td>\n",
       "      <td>FS - Client Lifecycle Management (8.4)</td>\n",
       "      <td>NaN</td>\n",
       "      <td>NaN</td>\n",
       "      <td>qa  incorrect  sale  support  manager  onboard...</td>\n",
       "    </tr>\n",
       "    <tr>\n",
       "      <th>7562</th>\n",
       "      <td>BUG-535030</td>\n",
       "      <td>fm  manage  product  fund  complete  default</td>\n",
       "      <td>step  start  onboarde  fm  b  add  fund  produ...</td>\n",
       "      <td>Resolved-Enhancement</td>\n",
       "      <td>PROJ-9995</td>\n",
       "      <td>Symphony [PCLM] 8.4</td>\n",
       "      <td>BL-9394</td>\n",
       "      <td>FS - Client Lifecycle Management (8.4)</td>\n",
       "      <td>NaN</td>\n",
       "      <td>NaN</td>\n",
       "      <td>fm  manage  product  fund  complete  default s...</td>\n",
       "    </tr>\n",
       "    <tr>\n",
       "      <th>7563</th>\n",
       "      <td>BUG-532532</td>\n",
       "      <td>pdc  exception  null  pointer  excep  retail</td>\n",
       "      <td>initial  analysis  initial  analysis  step  ch...</td>\n",
       "      <td>Resolved-Completed</td>\n",
       "      <td>PROJ-9995</td>\n",
       "      <td>Symphony [PCLM] 8.4</td>\n",
       "      <td>BL-9394</td>\n",
       "      <td>FS - Client Lifecycle Management (8.4)</td>\n",
       "      <td>NaN</td>\n",
       "      <td>NaN</td>\n",
       "      <td>pdc  exception  null  pointer  excep  retail i...</td>\n",
       "    </tr>\n",
       "    <tr>\n",
       "      <th>7564</th>\n",
       "      <td>BUG-531668</td>\n",
       "      <td>cib  case  stuck  client  synch  relate  add  ...</td>\n",
       "      <td>create  flat  hierarchical  add  product  cib ...</td>\n",
       "      <td>Resolved-Completed</td>\n",
       "      <td>PROJ-9996</td>\n",
       "      <td>Synergy 8.4</td>\n",
       "      <td>BL-9394</td>\n",
       "      <td>FS - Client Lifecycle Management (8.4)</td>\n",
       "      <td>NaN</td>\n",
       "      <td>NaN</td>\n",
       "      <td>cib  case  stuck  client  synch  relate  add  ...</td>\n",
       "    </tr>\n",
       "    <tr>\n",
       "      <th>7567</th>\n",
       "      <td>BUG-532794</td>\n",
       "      <td>pdc  exception  null  pointer  excepception  g...</td>\n",
       "      <td>initial  analysis  potentially  kyc  issue  ba...</td>\n",
       "      <td>Resolved-Completed</td>\n",
       "      <td>PROJ-9996</td>\n",
       "      <td>Synergy 8.4</td>\n",
       "      <td>BL-9394</td>\n",
       "      <td>FS - Client Lifecycle Management (8.4)</td>\n",
       "      <td>NaN</td>\n",
       "      <td>NaN</td>\n",
       "      <td>pdc  exception  null  pointer  excepception  g...</td>\n",
       "    </tr>\n",
       "  </tbody>\n",
       "</table>\n",
       "<p>5434 rows × 11 columns</p>\n",
       "</div>"
      ],
      "text/plain": [
       "         work_id                                              label  \\\n",
       "0     BUG-530021                        issue  report  notification   \n",
       "1     BUG-528121  opd  prod  pre  schedule  validation  stick  p...   \n",
       "2     BUG-529279  inflight  dbupgrde  task  validation  task  no...   \n",
       "39    BUG-530336                            new  app  wizard  error   \n",
       "48    BUG-530860     v  dx  api  automation  need  description  fix   \n",
       "...          ...                                                ...   \n",
       "7561  BUG-534804  qa  incorrect  sale  support  manager  onboard...   \n",
       "7562  BUG-535030       fm  manage  product  fund  complete  default   \n",
       "7563  BUG-532532       pdc  exception  null  pointer  excep  retail   \n",
       "7564  BUG-531668  cib  case  stuck  client  synch  relate  add  ...   \n",
       "7567  BUG-532794  pdc  exception  null  pointer  excepception  g...   \n",
       "\n",
       "                                            description  \\\n",
       "0     hi  team  report  issue  pre  schedule  valida...   \n",
       "1     pre  schedule  validation  stick  progress  go...   \n",
       "2     inflight  dbupgrde  task  validation  task  in...   \n",
       "39    laura  protano  run  error  run  new  applicat...   \n",
       "48    swagger  generator  use  automation  short  de...   \n",
       "...                                                 ...   \n",
       "7561  url  prweb  step  reproduce  login  john  john...   \n",
       "7562  step  start  onboarde  fm  b  add  fund  produ...   \n",
       "7563  initial  analysis  initial  analysis  step  ch...   \n",
       "7564  create  flat  hierarchical  add  product  cib ...   \n",
       "7567  initial  analysis  potentially  kyc  issue  ba...   \n",
       "\n",
       "                       status     team_id                        team_name  \\\n",
       "0        Resolved-Enhancement  PROJ-10002                Cloud - Beyonders   \n",
       "1          Resolved-Completed  PROJ-10002                Cloud - Beyonders   \n",
       "2          Resolved-Completed  PROJ-10002                Cloud - Beyonders   \n",
       "39         Resolved-Completed  PROJ-10010  Zenith for Customer Service 8.5   \n",
       "48         Resolved-Completed  PROJ-10015             DX APIs - CodeNinjas   \n",
       "...                       ...         ...                              ...   \n",
       "7561  Resolved-CannotRecreate   PROJ-9995              Symphony [PCLM] 8.4   \n",
       "7562     Resolved-Enhancement   PROJ-9995              Symphony [PCLM] 8.4   \n",
       "7563       Resolved-Completed   PROJ-9995              Symphony [PCLM] 8.4   \n",
       "7564       Resolved-Completed   PROJ-9996                      Synergy 8.4   \n",
       "7567       Resolved-Completed   PROJ-9996                      Synergy 8.4   \n",
       "\n",
       "     backlog_id                               backlog_name feature_id  \\\n",
       "0       BL-3339                                      Cloud        NaN   \n",
       "1       BL-3339                                      Cloud    FR-9155   \n",
       "2       BL-3339                                      Cloud    FR-8238   \n",
       "39       BL-752  Pega Customer Service Development Backlog        NaN   \n",
       "48    GRP-13931                        Platform UI Backlog    FR-8192   \n",
       "...         ...                                        ...        ...   \n",
       "7561    BL-9394     FS - Client Lifecycle Management (8.4)        NaN   \n",
       "7562    BL-9394     FS - Client Lifecycle Management (8.4)        NaN   \n",
       "7563    BL-9394     FS - Client Lifecycle Management (8.4)        NaN   \n",
       "7564    BL-9394     FS - Client Lifecycle Management (8.4)        NaN   \n",
       "7567    BL-9394     FS - Client Lifecycle Management (8.4)        NaN   \n",
       "\n",
       "                         feature_name  \\\n",
       "0                                 NaN   \n",
       "1           Scheduling Patch Installs   \n",
       "2     Global Operations Console (GOC)   \n",
       "39                                NaN   \n",
       "48                           Web APIs   \n",
       "...                               ...   \n",
       "7561                              NaN   \n",
       "7562                              NaN   \n",
       "7563                              NaN   \n",
       "7564                              NaN   \n",
       "7567                              NaN   \n",
       "\n",
       "                                               combined  \n",
       "0     issue  report  notification hi  team  report  ...  \n",
       "1     opd  prod  pre  schedule  validation  stick  p...  \n",
       "2     inflight  dbupgrde  task  validation  task  no...  \n",
       "39    new  app  wizard  error laura  protano  run  e...  \n",
       "48    v  dx  api  automation  need  description  fix...  \n",
       "...                                                 ...  \n",
       "7561  qa  incorrect  sale  support  manager  onboard...  \n",
       "7562  fm  manage  product  fund  complete  default s...  \n",
       "7563  pdc  exception  null  pointer  excep  retail i...  \n",
       "7564  cib  case  stuck  client  synch  relate  add  ...  \n",
       "7567  pdc  exception  null  pointer  excepception  g...  \n",
       "\n",
       "[5434 rows x 11 columns]"
      ]
     },
     "execution_count": 13,
     "metadata": {},
     "output_type": "execute_result"
    }
   ],
   "source": [
    "assigned_bugs"
   ]
  },
  {
   "cell_type": "markdown",
   "metadata": {},
   "source": [
    "## Step 5: Setting up the Data for Training\n",
    "Now that our data is preprocessed and ready to go, we need to get the data into a suitable format for training a machine learning model. To do so we\n",
    "1. Get the one-hot-encoded representation of the backlog ids to which each bug belongs.\n",
    "2. Perform a train test split on our text and labels to separate out train data and test data. Here, we perform an 80/20 train-test split\n",
    "3. Use a TF/IDF Vectorizer to convert plain text descriptions into TF/IDF vectors. See the [sklearn documentation](https://scikit-learn.org/stable/modules/generated/sklearn.feature_extraction.text.TfidfVectorizer.html) for details.\n",
    "    * Note that you can use a hashing vectorizer instead if you so choose. We found this method to be slightly less effective that TF/IDF, but it does have the advantage of being stateless. To use or test the hashing vectorizer in place of TF/IDF, comment out the TF/IDF code and uncomment the hashing vectorizer code.\n",
    "4. Convert all datatypes into `float32`s. `float32`s can be processed much faster than `float64`s on both GPU and CPU instances. Generally, we convert everything to `float32`s before training a model because the decreased precision almost never decreases model accuracy, but almost always decreases training speed. If you have an NVIDIA GPU available to you that also has a large number of \"tensor cores\" or \"half-precision cores,\" you might experiment with changing the data type instead to `float16` to improve training speed even further."
   ]
  },
  {
   "cell_type": "code",
   "execution_count": 14,
   "metadata": {},
   "outputs": [],
   "source": [
    "# 1. Get the one-hot-encoded representation of the backlog ids to which each bug belongs.\n",
    "backlog_labels = pd.get_dummies(assigned_bugs['backlog_id'])"
   ]
  },
  {
   "cell_type": "code",
   "execution_count": 15,
   "metadata": {},
   "outputs": [],
   "source": [
    "# 2. Perform a train test split on our text and labels to seperate out train data and test data.\n",
    "category='combined'\n",
    "random_state = 101 # random state is set to ensure our work is reproducable\n",
    "train_features, test_features, train_labels, test_labels = train_test_split(assigned_bugs[category], backlog_labels, test_size=0.2, random_state=random_state)"
   ]
  },
  {
   "cell_type": "code",
   "execution_count": 16,
   "metadata": {},
   "outputs": [
    {
     "data": {
      "text/plain": [
       "(4347, 16442)"
      ]
     },
     "execution_count": 16,
     "metadata": {},
     "output_type": "execute_result"
    }
   ],
   "source": [
    "# 3. Use a TF/IDF Vectorizer to convert plain text descprtions into TF/IDF vectors.\n",
    "tfidf_vectorizer = TfidfVectorizer(sublinear_tf=True,\n",
    "                        binary=False,\n",
    "                        min_df=3,\n",
    "                        max_df=0.5, \n",
    "                        norm='l2', \n",
    "                        ngram_range=(1, 2),\n",
    "                        lowercase=True)\n",
    "\n",
    "train_features = pd.DataFrame(tfidf_vectorizer.fit_transform(train_features).toarray()) # Fit the Vectorizer to the train data\n",
    "test_features = pd.DataFrame(tfidf_vectorizer.transform(test_features).toarray()) # Only transform (don't fit) the test data to emulate real-world predictions\n",
    "\n",
    "#hashing_vectorizer = HashingVectorizer(n_features=2**14)\n",
    "#train_features = pd.DataFrame(hashing_vectorizer.transform(train_features).toarray())\n",
    "#test_features = pd.DataFrame(hashing_vectorizer.transform(test_features).toarray())\n",
    "\n",
    "train_features.shape"
   ]
  },
  {
   "cell_type": "code",
   "execution_count": 17,
   "metadata": {},
   "outputs": [
    {
     "name": "stdout",
     "output_type": "stream",
     "text": [
      "train features type:  <class 'pandas.core.frame.DataFrame'>\n",
      "train labels type:  <class 'pandas.core.frame.DataFrame'>\n",
      "train features shape:  (4347, 16442)\n",
      "train labels shape:  (4347, 47)\n",
      "train features value type:  float32\n",
      "train labels value type:  float32\n"
     ]
    }
   ],
   "source": [
    "# 4. Convert all datatypes to float32\n",
    "train_features = train_features.astype('float32')\n",
    "test_features = test_features.astype('float32')\n",
    "train_labels = train_labels.astype('float32')\n",
    "test_labels = test_labels.astype('float32')\n",
    "\n",
    "# Double Check That all data looks correct\n",
    "print(\"train features type: \" , type(train_features))\n",
    "print(\"train labels type: \", type(train_labels))\n",
    "print(\"train features shape: \", train_features.shape)\n",
    "print(\"train labels shape: \", train_labels.shape)\n",
    "print(\"train features value type: \", train_features.dtypes[0])\n",
    "print(\"train labels value type: \", train_labels.dtypes[0])"
   ]
  },
  {
   "cell_type": "markdown",
   "metadata": {},
   "source": [
    "## Step 6: Building The Model\n",
    "Now that our data is ready to go, we build the model we'll use to crunch the data. The function `build_tfidf_model` below defines our keras model. We won't go into too much depth here, but here are some general features that define the model we've built and a visual of the model's layers and output:\n",
    "\n",
    "**Parameters**:\n",
    "\n",
    "- Number of Layers: 2\n",
    "- Layer 1 size (# of neurons): 2048\n",
    "- Layer 2 size: 512\n",
    "- Activation Function: parameterized relu (\"prelu\")\n",
    "- Dropout Percentage: 30%\n",
    "- Optimizer: Adam\n",
    "- Learning Rate: 0.0001\n",
    "- Loss: kullback_leibler_divergence\n",
    "\n",
    "**Visual**:\n",
    "\n",
    "![TFIDF Deep Learning Model](../figures/model.png)\n",
    "\n",
    "\n",
    "**Hyperparameter Optimization**:\n",
    "\n",
    "In order to choose the above parameters, we performed hyperparameter optimization using a grid search. You can read more about hyperparameter optimization and grid search [here](https://en.wikipedia.org/wiki/Hyperparameter_optimization). Essentially, grid search attempts to find optimal model parameters simply by generating several hundreds or thousands of different model permutations, each with different parameters, and testing each model's accuracy/ loss. Grid search is considered the must rigorous method to perform hyperparameter optimization. After our grid search was finished, we simply copied the parameters from highest-performing model out of hundreds of models that we tested. The code for our hyperparameter-optimization grid search can be found in [hyperopt_tfidf.py](./hyperopt_tfidf.py)\n",
    "\n",
    "### Additional Notes:\n",
    "- The confidence bounding approach we use, termed ['Monte-Carlo Dropout'](https://arxiv.org/pdf/1506.02142.pdf), does not work when TensorFlow is in eager execution mode. As such, we always must disable eager execution before we build the model.\n",
    "- This confidence bounding approach uses dropout to test model confidence. In order to enable our model to use the approach, we insert a dropout layer in-between each of the Dense (Feature Detecting) layers, and set the parameter `trainable=True`. This trainable parameter must be enabled for the model to leverage Monte Carlo Dropout."
   ]
  },
  {
   "cell_type": "code",
   "execution_count": 18,
   "metadata": {},
   "outputs": [],
   "source": [
    "# Function to build our TF/IDF model:\n",
    "def build_tfidf_model(features, labels, optimizer, activations, drop_rate, lr, layer1_size, layer2_size=None, layer3_size=None, layer4_size=None):\n",
    "    \n",
    "    model = Sequential()\n",
    "    model.add(Input(shape=[len(features.keys())], name=\"TFIDF_Features\"))\n",
    "    model.add(Dense(layer1_size, input_shape=[len(features.keys())]))\n",
    "    \n",
    "    if activations[0] == \"leaky\":\n",
    "        model.add(LeakyReLU())\n",
    "    elif activations[0] == \"prelu\":\n",
    "        model.add(PReLU())\n",
    "    else:\n",
    "        model.add(Activation(activations[0]))     \n",
    "        \n",
    "    if layer2_size:\n",
    "        model.add(Dropout(drop_rate, trainable=True))\n",
    "        model.add(Dense(layer2_size))\n",
    "        \n",
    "        if activations[1] == \"leaky\":\n",
    "            model.add(LeakyReLU())\n",
    "        elif activations[0] == \"prelu\":\n",
    "            model.add(PReLU())\n",
    "        else:\n",
    "            model.add(Activation(activations[1]))      \n",
    "            \n",
    "            \n",
    "    if layer3_size:\n",
    "        model.add(Dropout(drop_rate, trainable=True))\n",
    "        model.add(Dense(layer3_size))\n",
    "        \n",
    "        if activations[2] == \"leaky\":\n",
    "            model.add(LeakyReLU())\n",
    "        elif activations[0] == \"prelu\":\n",
    "            model.add(PReLU())\n",
    "        else:\n",
    "            model.add(Activation(activations[2]))   \n",
    "            \n",
    "            \n",
    "    if layer4_size:\n",
    "        model.add(Dropout(drop_rate, trainable=True))\n",
    "        model.add(Dense(layer4_size))\n",
    "        \n",
    "        if activations[3] == \"leaky\":\n",
    "            model.add(LeakyReLU())\n",
    "        elif activations[0] == \"prelu\":\n",
    "            model.add(PReLU())\n",
    "        else:\n",
    "            model.add(Activation(activations[3]))\n",
    "            \n",
    "            \n",
    "    model.add(Dropout(drop_rate, trainable=True))\n",
    "    model.add(Dense(len(labels.keys()), activation='softmax', name=\"softmax_output\"))\n",
    "    \n",
    "    # Parameters\n",
    "    if optimizer == 'adam':\n",
    "        optimizer = tf.keras.optimizers.Adam(lr)\n",
    "    elif optimizer == 'adamax':\n",
    "        optimizer = tf.keras.optimizers.Adamax() # Use default learning rate for adamax\n",
    "    elif optimizer == 'nadam':\n",
    "        optimizer = tf.keras.optimizers.Nadam(lr)\n",
    "    elif optimizer == 'rmsprop':\n",
    "        optimizer = tf.keras.optimizers.RMSprop(lr )\n",
    "    else:\n",
    "        print(\"ERROR: No valid optimizer passed\")\n",
    "        return None\n",
    "    \n",
    "    \n",
    "    model.compile(loss='kullback_leibler_divergence',\n",
    "                optimizer=optimizer,\n",
    "                metrics=['accuracy'])\n",
    "    \n",
    "    return model"
   ]
  },
  {
   "cell_type": "code",
   "execution_count": 19,
   "metadata": {},
   "outputs": [],
   "source": [
    "# Disable Eager Execution\n",
    "tf.compat.v1.disable_eager_execution()"
   ]
  },
  {
   "cell_type": "code",
   "execution_count": 20,
   "metadata": {},
   "outputs": [
    {
     "name": "stdout",
     "output_type": "stream",
     "text": [
      "WARNING:tensorflow:From /root/miniconda3/envs/nlp-workspace/lib/python3.7/site-packages/tensorflow_core/python/ops/resource_variable_ops.py:1630: calling BaseResourceVariable.__init__ (from tensorflow.python.ops.resource_variable_ops) with constraint is deprecated and will be removed in a future version.\n",
      "Instructions for updating:\n",
      "If using Keras pass *_constraint arguments to layers.\n"
     ]
    }
   ],
   "source": [
    "# Build the Model Itself\n",
    "\n",
    "# If the model already exists, make sure to deallocate it & clear system memory before allocating a new model:\n",
    "try:\n",
    "    assignment_model\n",
    "except NameError:\n",
    "    assignment_model = None\n",
    "    \n",
    "clear_memory() # Clear VRAM or RAM\n",
    "\n",
    "\n",
    "# Construct the model itself:\n",
    "assignment_model = build_tfidf_model(features = train_features, \n",
    "                                     labels = train_labels, \n",
    "                                     optimizer = 'adam',\n",
    "                                     activations = ['prelu', 'prelu'],\n",
    "                                     drop_rate=0.3,\n",
    "                                     lr=0.0001,\n",
    "                                     layer1_size = 2048,\n",
    "                                     layer2_size= 512, \n",
    "                                     layer3_size= None,\n",
    "                                     layer4_size= None)"
   ]
  },
  {
   "cell_type": "code",
   "execution_count": 21,
   "metadata": {},
   "outputs": [
    {
     "name": "stdout",
     "output_type": "stream",
     "text": [
      "Model: \"sequential\"\n",
      "_________________________________________________________________\n",
      "Layer (type)                 Output Shape              Param #   \n",
      "=================================================================\n",
      "dense (Dense)                (None, 2048)              33675264  \n",
      "_________________________________________________________________\n",
      "p_re_lu (PReLU)              (None, 2048)              2048      \n",
      "_________________________________________________________________\n",
      "dropout (Dropout)            (None, 2048)              0         \n",
      "_________________________________________________________________\n",
      "dense_1 (Dense)              (None, 512)               1049088   \n",
      "_________________________________________________________________\n",
      "p_re_lu_1 (PReLU)            (None, 512)               512       \n",
      "_________________________________________________________________\n",
      "dropout_1 (Dropout)          (None, 512)               0         \n",
      "_________________________________________________________________\n",
      "softmax_output (Dense)       (None, 47)                24111     \n",
      "=================================================================\n",
      "Total params: 34,751,023\n",
      "Trainable params: 34,751,023\n",
      "Non-trainable params: 0\n",
      "_________________________________________________________________\n"
     ]
    }
   ],
   "source": [
    "# Visualize the model's layers and output:\n",
    "assignment_model.summary()"
   ]
  },
  {
   "cell_type": "markdown",
   "metadata": {},
   "source": [
    "## Step 7: Training the Model\n",
    "We've now got our model and data ready to go. It's time for training. To train the model, we use a portion of the training data for for validation. Overall, we use about 70% of our data for training, about 10% for validation, and 20% for testing. This is a standard split for an ML Experiment. If you'd like more background on the difference between validation/ test sets, consult [this resource](https://en.wikipedia.org/wiki/Training,_validation,_and_test_sets).\n",
    "\n",
    "In the training function, we've added a couple of parameters we should define:\n",
    "- `early_stop`: [Early stopping](https://en.wikipedia.org/wiki/Early_stopping) is a method used to prevent a machine learning model from overfitting the training data. Essentially, early stopping forces a model to stop learning once its validation accuracy fails to improve for more than a set number of epochs. In our case, since we've set `patience` to 30, our model will stop training when it fails to improve its validation accuracy for 30 consecutive epochs. By setting the `restore_best_weights` option to `True`, we restore the 'version' of the model that produced the highest validation accuracy over the course of the training cycle. Restoring the best version of the model is important because model accuracy often starts to degrade towards the end of the training cycle as a model begins to overfit the training data\n",
    "\n",
    "- `workers`: workers defines the number of processes to spin up in order to train the machine learning model. The more processes, the faster the model will train (even when on a GPU instance), but you'll need at least 1 CPU core per process. We set the number of workers to the number of available CPUs on the machine training the model, but you can feel free to use less cores. Note that if you set `use_multiprocessing` to False, the training function will only spin up a single process.\n",
    "\n",
    "- `epochs`: epochs defines the number of times the model should 'loop through' the training dataset in its entirety while it is learning. In practice, we'll never train for even close to 1000 epochs. Due to early stopping, we found our models typically only trained for about 70-80 epochs max.\n",
    "\n",
    "- `batch_size`: The batch size is the number of training examples the model will 'take in' at once. Our model could handle taking in 128 TF/IDF Vectors and corresponding backlog label vectors at once. If your machine has less RAM or VRAM, however, you may need to decrease the batch size to avoid overloading the system memory. Attempt to choose a batch size that is a power of 4.\n",
    "\n",
    "For a more in-depth and less dumbed-down description of epochs and batch size, check out [this resource](https://docs.paperspace.com/machine-learning/wiki/epoch)"
   ]
  },
  {
   "cell_type": "code",
   "execution_count": 22,
   "metadata": {},
   "outputs": [
    {
     "name": "stdout",
     "output_type": "stream",
     "text": [
      "Train on 3912 samples, validate on 435 samples\n",
      "Epoch 1/1000\n",
      "3912/3912 [==============================] - 1s 375us/sample - loss: 3.7879 - accuracy: 0.1518 - val_loss: 3.6831 - val_accuracy: 0.1977\n",
      "Epoch 2/1000\n",
      "3912/3912 [==============================] - 1s 339us/sample - loss: 3.4906 - accuracy: 0.1710 - val_loss: 3.3326 - val_accuracy: 0.1977\n",
      "Epoch 3/1000\n",
      "3912/3912 [==============================] - 1s 318us/sample - loss: 3.1358 - accuracy: 0.2037 - val_loss: 3.0327 - val_accuracy: 0.2529\n",
      "Epoch 4/1000\n",
      "3912/3912 [==============================] - 1s 317us/sample - loss: 2.8106 - accuracy: 0.2830 - val_loss: 2.7637 - val_accuracy: 0.3356\n",
      "Epoch 5/1000\n",
      "3912/3912 [==============================] - 1s 320us/sample - loss: 2.4814 - accuracy: 0.3783 - val_loss: 2.4944 - val_accuracy: 0.3977\n",
      "Epoch 6/1000\n",
      "3912/3912 [==============================] - 1s 313us/sample - loss: 2.1530 - accuracy: 0.5072 - val_loss: 2.2449 - val_accuracy: 0.5195\n",
      "Epoch 7/1000\n",
      "3912/3912 [==============================] - 1s 297us/sample - loss: 1.8510 - accuracy: 0.6150 - val_loss: 2.0303 - val_accuracy: 0.5655\n",
      "Epoch 8/1000\n",
      "3912/3912 [==============================] - 1s 319us/sample - loss: 1.5864 - accuracy: 0.6912 - val_loss: 1.8437 - val_accuracy: 0.6161\n",
      "Epoch 9/1000\n",
      "3912/3912 [==============================] - 1s 315us/sample - loss: 1.3550 - accuracy: 0.7497 - val_loss: 1.6873 - val_accuracy: 0.6667\n",
      "Epoch 10/1000\n",
      "3912/3912 [==============================] - 1s 318us/sample - loss: 1.1491 - accuracy: 0.8047 - val_loss: 1.5529 - val_accuracy: 0.6874\n",
      "Epoch 11/1000\n",
      "3912/3912 [==============================] - 1s 319us/sample - loss: 0.9778 - accuracy: 0.8517 - val_loss: 1.4433 - val_accuracy: 0.7034\n",
      "Epoch 12/1000\n",
      "3912/3912 [==============================] - 1s 320us/sample - loss: 0.8354 - accuracy: 0.8799 - val_loss: 1.3544 - val_accuracy: 0.7241\n",
      "Epoch 13/1000\n",
      "3912/3912 [==============================] - 1s 319us/sample - loss: 0.7090 - accuracy: 0.9059 - val_loss: 1.2789 - val_accuracy: 0.7425\n",
      "Epoch 14/1000\n",
      "3912/3912 [==============================] - 1s 317us/sample - loss: 0.6038 - accuracy: 0.9284 - val_loss: 1.2139 - val_accuracy: 0.7586\n",
      "Epoch 15/1000\n",
      "3912/3912 [==============================] - 1s 299us/sample - loss: 0.5148 - accuracy: 0.9422 - val_loss: 1.1600 - val_accuracy: 0.7586\n",
      "Epoch 16/1000\n",
      "3912/3912 [==============================] - 1s 315us/sample - loss: 0.4453 - accuracy: 0.9540 - val_loss: 1.1250 - val_accuracy: 0.7655\n",
      "Epoch 17/1000\n",
      "3912/3912 [==============================] - 1s 316us/sample - loss: 0.3747 - accuracy: 0.9632 - val_loss: 1.0864 - val_accuracy: 0.7632\n",
      "Epoch 18/1000\n",
      "3912/3912 [==============================] - 1s 318us/sample - loss: 0.3249 - accuracy: 0.9709 - val_loss: 1.0607 - val_accuracy: 0.7701\n",
      "Epoch 19/1000\n",
      "3912/3912 [==============================] - 1s 316us/sample - loss: 0.2774 - accuracy: 0.9726 - val_loss: 1.0367 - val_accuracy: 0.7678\n",
      "Epoch 20/1000\n",
      "3912/3912 [==============================] - 1s 319us/sample - loss: 0.2400 - accuracy: 0.9770 - val_loss: 1.0165 - val_accuracy: 0.7655\n",
      "Epoch 21/1000\n",
      "3912/3912 [==============================] - 1s 317us/sample - loss: 0.2065 - accuracy: 0.9796 - val_loss: 1.0104 - val_accuracy: 0.7724\n",
      "Epoch 22/1000\n",
      "3912/3912 [==============================] - 1s 317us/sample - loss: 0.1827 - accuracy: 0.9824 - val_loss: 0.9973 - val_accuracy: 0.7701\n",
      "Epoch 23/1000\n",
      "3912/3912 [==============================] - 1s 315us/sample - loss: 0.1603 - accuracy: 0.9836 - val_loss: 0.9892 - val_accuracy: 0.7793\n",
      "Epoch 24/1000\n",
      "3912/3912 [==============================] - 1s 304us/sample - loss: 0.1410 - accuracy: 0.9824 - val_loss: 0.9799 - val_accuracy: 0.7816\n",
      "Epoch 25/1000\n",
      "3912/3912 [==============================] - 1s 316us/sample - loss: 0.1288 - accuracy: 0.9847 - val_loss: 0.9758 - val_accuracy: 0.7839\n",
      "Epoch 26/1000\n",
      "3912/3912 [==============================] - 1s 317us/sample - loss: 0.1129 - accuracy: 0.9872 - val_loss: 0.9714 - val_accuracy: 0.7839\n",
      "Epoch 27/1000\n",
      "3912/3912 [==============================] - 1s 319us/sample - loss: 0.1055 - accuracy: 0.9847 - val_loss: 0.9686 - val_accuracy: 0.7816\n",
      "Epoch 28/1000\n",
      "3912/3912 [==============================] - 1s 316us/sample - loss: 0.0958 - accuracy: 0.9854 - val_loss: 0.9659 - val_accuracy: 0.7793\n",
      "Epoch 29/1000\n",
      "3912/3912 [==============================] - 1s 318us/sample - loss: 0.0893 - accuracy: 0.9852 - val_loss: 0.9684 - val_accuracy: 0.7816\n",
      "Epoch 30/1000\n",
      "3912/3912 [==============================] - 1s 314us/sample - loss: 0.0795 - accuracy: 0.9872 - val_loss: 0.9708 - val_accuracy: 0.7816\n",
      "Epoch 31/1000\n",
      "3912/3912 [==============================] - 1s 314us/sample - loss: 0.0767 - accuracy: 0.9852 - val_loss: 0.9709 - val_accuracy: 0.7793\n",
      "Epoch 32/1000\n",
      "3912/3912 [==============================] - 1s 301us/sample - loss: 0.0708 - accuracy: 0.9859 - val_loss: 0.9690 - val_accuracy: 0.7793\n",
      "Epoch 33/1000\n",
      "3912/3912 [==============================] - 1s 309us/sample - loss: 0.0657 - accuracy: 0.9875 - val_loss: 0.9693 - val_accuracy: 0.7816\n",
      "Epoch 34/1000\n",
      "3912/3912 [==============================] - 1s 315us/sample - loss: 0.0632 - accuracy: 0.9875 - val_loss: 0.9694 - val_accuracy: 0.7839\n",
      "Epoch 35/1000\n",
      "3912/3912 [==============================] - 1s 313us/sample - loss: 0.0591 - accuracy: 0.9877 - val_loss: 0.9691 - val_accuracy: 0.7747\n",
      "Epoch 36/1000\n",
      "3912/3912 [==============================] - 1s 315us/sample - loss: 0.0584 - accuracy: 0.9888 - val_loss: 0.9777 - val_accuracy: 0.7816\n",
      "Epoch 37/1000\n",
      "3912/3912 [==============================] - 1s 312us/sample - loss: 0.0571 - accuracy: 0.9875 - val_loss: 0.9737 - val_accuracy: 0.7816\n",
      "Epoch 38/1000\n",
      "3912/3912 [==============================] - 1s 318us/sample - loss: 0.0520 - accuracy: 0.9888 - val_loss: 0.9771 - val_accuracy: 0.7793\n",
      "Epoch 39/1000\n",
      "3912/3912 [==============================] - 1s 315us/sample - loss: 0.0495 - accuracy: 0.9877 - val_loss: 0.9761 - val_accuracy: 0.7839\n",
      "Epoch 40/1000\n",
      "3912/3912 [==============================] - 1s 314us/sample - loss: 0.0499 - accuracy: 0.9872 - val_loss: 0.9757 - val_accuracy: 0.7839\n",
      "Epoch 41/1000\n",
      "3912/3912 [==============================] - 1s 300us/sample - loss: 0.0489 - accuracy: 0.9865 - val_loss: 0.9785 - val_accuracy: 0.7793\n",
      "Epoch 42/1000\n",
      "3912/3912 [==============================] - 1s 313us/sample - loss: 0.0466 - accuracy: 0.9872 - val_loss: 0.9830 - val_accuracy: 0.7816\n",
      "Epoch 43/1000\n",
      "3912/3912 [==============================] - 1s 320us/sample - loss: 0.0432 - accuracy: 0.9885 - val_loss: 0.9797 - val_accuracy: 0.7816\n",
      "Epoch 44/1000\n",
      "3912/3912 [==============================] - 1s 316us/sample - loss: 0.0416 - accuracy: 0.9885 - val_loss: 0.9889 - val_accuracy: 0.7793\n",
      "Epoch 45/1000\n",
      "3912/3912 [==============================] - 1s 344us/sample - loss: 0.0408 - accuracy: 0.9882 - val_loss: 0.9920 - val_accuracy: 0.7793\n"
     ]
    }
   ],
   "source": [
    "# Define Params for this model:\n",
    "import multiprocessing\n",
    "workers = multiprocessing.cpu_count()\n",
    "use_multiprocessing = workers > 1\n",
    "\n",
    "early_stop = keras.callbacks.EarlyStopping(monitor='val_accuracy', restore_best_weights=True, patience=20)\n",
    "\n",
    "\n",
    "history_tfidf = assignment_model.fit(\n",
    "  train_features, train_labels,\n",
    "  batch_size=128,\n",
    "  epochs=1000, validation_split=0.1, verbose=1,\n",
    "  callbacks=[early_stop],\n",
    "  workers=workers, use_multiprocessing=use_multiprocessing)"
   ]
  },
  {
   "cell_type": "code",
   "execution_count": 23,
   "metadata": {},
   "outputs": [
    {
     "data": {
      "text/plain": [
       "<Figure size 432x288 with 0 Axes>"
      ]
     },
     "metadata": {},
     "output_type": "display_data"
    },
    {
     "data": {
      "image/png": "[encoded data removed]",
      "text/plain": [
       "<Figure size 432x288 with 1 Axes>"
      ]
     },
     "metadata": {},
     "output_type": "display_data"
    }
   ],
   "source": [
    "# Check Training History\n",
    "plot_history(history_tfidf, \"Val Accuracy: TFIDF + Deep Learning Model\", save=True)"
   ]
  },
  {
   "cell_type": "markdown",
   "metadata": {},
   "source": [
    "## Step 8: Saving the Model\n",
    "In order to use the model we've just trained in production, we'll need to save the model and all of its dependencies. This way, we'll be able to easily reload the model in production to perform predictions. Below we save...\n",
    "\n",
    "- `tfidf_vectorizer`: The TF/IDF Vectorizer was 'fit' to the training dataset, and its vocabulary encompasses all of the words that show up in our training emails. In order to prepare plain-text/ HTML files to be fed into our model during deployment, we'll need to use this vectorizer once again to transform that text/HTML into the vectors that our deep learning model expects as input.\n",
    "- `label_to_id`: This variable stores a simple dictionary that maps prediction indices (indices of the labels in the one-hot-encoded label representation) to actual backlog-id names. Without this dictionary, we wouldn't be able to understanding the meaning of our model predictions.\n",
    "- `assignment_model`: lastly, of course, we save the classifier itself."
   ]
  },
  {
   "cell_type": "code",
   "execution_count": 24,
   "metadata": {},
   "outputs": [
    {
     "data": {
      "text/plain": [
       "'BL-3346'"
      ]
     },
     "execution_count": 24,
     "metadata": {},
     "output_type": "execute_result"
    }
   ],
   "source": [
    "# Generate a dictionary that maps prediction indicies \n",
    "# (indicies of one-hot-encoded labels) to actual backlog ID names \n",
    "label_to_id = {}\n",
    "for i, col in enumerate(test_labels.columns):\n",
    "    label_to_id[i] = col\n",
    "\n",
    "# Test:\n",
    "label_to_id[10]"
   ]
  },
  {
   "cell_type": "code",
   "execution_count": 25,
   "metadata": {},
   "outputs": [],
   "source": [
    "# Create Directory to save into:\n",
    "! mkdir -p ../saved_models/tfidf_model/\n",
    "# Save tfidf_vectorizer\n",
    "pickle.dump(tfidf_vectorizer, open(\"../saved_models/tfidf_model/tfidf_vectorizer.pkl\", \"wb\"))\n",
    "# Save assignment_model\n",
    "assignment_model.save('../saved_models/tfidf_model/tfidf_classifier.h5')\n",
    "# Save label_to_id dictionary\n",
    "pickle.dump(label_to_id, open('../saved_models/tfidf_model/label_to_id.pkl', 'wb'))"
   ]
  },
  {
   "cell_type": "markdown",
   "metadata": {},
   "source": [
    "## Step 9: Testing Model + Generating Predictions:\n",
    "To generate model predictions, we apply the Monte Carlo Dropout confidence bounding approach described in ['Dropout as a Bayesian Approximation: Representing Model Uncertainty in Deep Learning\n",
    "'](https://arxiv.org/pdf/1506.02142.pdf). We've developed two prediction functions that use Monte Carlo Dropout under the hood\n",
    "- `test_with_uncertainty` - designed to be used to test model accuracy on a test set, and\n",
    "- `predict_with_uncertainty`, designed to be used in production to generate a prediction for a single email.\n",
    "You can find the code for these functions in [MLFunctions.py](../nlp_engine/MLFunctions.py). We've listed the function headers below to describe how each of these functions work.\n",
    "\n",
    "When we test our model, we'll use the function `test_with_uncertainty` to obtain our model's predictions for each sample in the test set, along with the associated confidence value for  each of those predictions. This way, we can evaluate the accuracy of the model at different confidence intervals.\n",
    "```python\n",
    "def test_with_uncertainty(model, test_features: pd.DataFrame, test_labels: pd.DataFrame, label_to_id: dict, n_iter=10) -> pd.DataFrame\n",
    "    \n",
    "    \"\"\"\n",
    "    USE FOR TESTING\n",
    "    ---------------\n",
    "\n",
    "    Parameters:\n",
    "\n",
    "        - model: a keras model trained with Monte Carlo Dropout\n",
    "\n",
    "        - test_features: one or multiple samples (1 sample = 1 vector of \n",
    "                         test_features).\n",
    "\n",
    "        - test_labels: the ground-truth labels corresponding to the samples. \n",
    "                       (one-hot-encoded)\n",
    "\n",
    "        - label_to_id: A dictionary that maps prediction indicies (indicies of\n",
    "                       the softmax outputs of the model) to label names. \n",
    "\n",
    "        - n_iter: the number of stochastic forward passes you'd like your model \n",
    "                  to perform for each given test sample. i.e. for n_iter=10, the\n",
    "                  function applies 10 distinct dropout schemas and generates\n",
    "                  10 different softmax outputs from the model. It then takes the final or 'master'\n",
    "                  prediction to be the maximum softmax index with the highest overall probability\n",
    "                  (i.e. final prediction = average prediction over all 10 trials) and the uncertainty \n",
    "                  to be the Standard Deviation of the set of 10 softmax outputs (more variable softmax output \n",
    "                  = more uncertainty)\n",
    "    \n",
    "    Returns: preds_df, a dataframe of labels predicted by your model, ground truth lables, and prediction\n",
    "             uncertainty values.\n",
    "    \"\"\"\n",
    "    \n",
    "def predict_with_uncertainty(model, test_features: pd.DataFrame, label_to_id: dict, n_iter=10) -> tuple\n",
    "    \n",
    "    \"\"\"\n",
    "    USE FOR DEPLOYMENT\n",
    "    ------------------\n",
    "\n",
    "    Wheras the above function is used during the testing phase (testing monte \n",
    "    carlo accuracies), this function should be used for deployment. Note that\n",
    "    there are no ground-truth labels passed into the function.\n",
    "\n",
    "    Parameters:\n",
    "\n",
    "        - model: Save as above\n",
    "\n",
    "        - test_features: a SINGLE sample (1 sample = 1 vector of \n",
    "                         test_features).\n",
    "\n",
    "        - label_to_id: Save as above\n",
    "\n",
    "        - n_iter: Same as above\n",
    "   \n",
    "    Returns: a tuple, including the predicted label value and an uncertainty value\n",
    "             ... i.e. return  (prediction id, uncertainty)\n",
    "    \"\"\"\n",
    "```"
   ]
  },
  {
   "cell_type": "code",
   "execution_count": 26,
   "metadata": {},
   "outputs": [],
   "source": [
    "# Test the Model\n",
    "preds_df = test_with_uncertainty(assignment_model, test_features, test_labels, label_to_id, n_iter=100)"
   ]
  },
  {
   "cell_type": "code",
   "execution_count": 27,
   "metadata": {},
   "outputs": [
    {
     "data": {
      "text/html": [
       "<div>\n",
       "<style scoped>\n",
       "    .dataframe tbody tr th:only-of-type {\n",
       "        vertical-align: middle;\n",
       "    }\n",
       "\n",
       "    .dataframe tbody tr th {\n",
       "        vertical-align: top;\n",
       "    }\n",
       "\n",
       "    .dataframe thead th {\n",
       "        text-align: right;\n",
       "    }\n",
       "</style>\n",
       "<table border=\"1\" class=\"dataframe\">\n",
       "  <thead>\n",
       "    <tr style=\"text-align: right;\">\n",
       "      <th></th>\n",
       "      <th>Prediction</th>\n",
       "      <th>Label</th>\n",
       "      <th>Uncertainty</th>\n",
       "    </tr>\n",
       "  </thead>\n",
       "  <tbody>\n",
       "    <tr>\n",
       "      <th>0</th>\n",
       "      <td>BL-3289</td>\n",
       "      <td>BL-3289</td>\n",
       "      <td>0.028436</td>\n",
       "    </tr>\n",
       "    <tr>\n",
       "      <th>1</th>\n",
       "      <td>BL-3289</td>\n",
       "      <td>BL-3289</td>\n",
       "      <td>0.001387</td>\n",
       "    </tr>\n",
       "    <tr>\n",
       "      <th>2</th>\n",
       "      <td>GRP-3974</td>\n",
       "      <td>GRP-3974</td>\n",
       "      <td>0.091664</td>\n",
       "    </tr>\n",
       "    <tr>\n",
       "      <th>3</th>\n",
       "      <td>GRP-28665</td>\n",
       "      <td>GRP-28665</td>\n",
       "      <td>0.060137</td>\n",
       "    </tr>\n",
       "    <tr>\n",
       "      <th>4</th>\n",
       "      <td>GRP-20686</td>\n",
       "      <td>GRP-20686</td>\n",
       "      <td>0.039525</td>\n",
       "    </tr>\n",
       "    <tr>\n",
       "      <th>...</th>\n",
       "      <td>...</td>\n",
       "      <td>...</td>\n",
       "      <td>...</td>\n",
       "    </tr>\n",
       "    <tr>\n",
       "      <th>1082</th>\n",
       "      <td>GRP-13931</td>\n",
       "      <td>GRP-13931</td>\n",
       "      <td>0.014101</td>\n",
       "    </tr>\n",
       "    <tr>\n",
       "      <th>1083</th>\n",
       "      <td>GRP-13931</td>\n",
       "      <td>BL-2287</td>\n",
       "      <td>0.109725</td>\n",
       "    </tr>\n",
       "    <tr>\n",
       "      <th>1084</th>\n",
       "      <td>BL-2285</td>\n",
       "      <td>BL-2285</td>\n",
       "      <td>0.008118</td>\n",
       "    </tr>\n",
       "    <tr>\n",
       "      <th>1085</th>\n",
       "      <td>BL-752</td>\n",
       "      <td>BL-752</td>\n",
       "      <td>0.004115</td>\n",
       "    </tr>\n",
       "    <tr>\n",
       "      <th>1086</th>\n",
       "      <td>BL-6113</td>\n",
       "      <td>BL-6113</td>\n",
       "      <td>0.001472</td>\n",
       "    </tr>\n",
       "  </tbody>\n",
       "</table>\n",
       "<p>1087 rows × 3 columns</p>\n",
       "</div>"
      ],
      "text/plain": [
       "     Prediction      Label  Uncertainty\n",
       "0       BL-3289    BL-3289     0.028436\n",
       "1       BL-3289    BL-3289     0.001387\n",
       "2      GRP-3974   GRP-3974     0.091664\n",
       "3     GRP-28665  GRP-28665     0.060137\n",
       "4     GRP-20686  GRP-20686     0.039525\n",
       "...         ...        ...          ...\n",
       "1082  GRP-13931  GRP-13931     0.014101\n",
       "1083  GRP-13931    BL-2287     0.109725\n",
       "1084    BL-2285    BL-2285     0.008118\n",
       "1085     BL-752     BL-752     0.004115\n",
       "1086    BL-6113    BL-6113     0.001472\n",
       "\n",
       "[1087 rows x 3 columns]"
      ]
     },
     "execution_count": 27,
     "metadata": {},
     "output_type": "execute_result"
    }
   ],
   "source": [
    "# Visualize and evaluate the prediction/ uncertainty values\n",
    "preds_df"
   ]
  },
  {
   "cell_type": "markdown",
   "metadata": {},
   "source": [
    "Testing Accuracy\n",
    "---\n",
    "\n",
    "Now that we've gotten our model predictions, we can pass the resulting `preds_df` DataFrame into another function `get_monte_carlo accuracy`. `get_monte_carlo accuracy` takes as input a predictions DataFrame, as well as a threshold uncertainty score. The function will then return the model's accuracy on all test samples that were predicted with an uncertainty value *below* the threshold uncertainty score. Further, it will let us know how much of the test set was discarded when the confidence threshold was applied.\n",
    "\n",
    "Ideally, you want to find a balance between accuracy and efficiency. It may be the case that that your model can achieve 80% accuracy on the entire test set (i.e. NO uncertainty threshold), however, your model can achieve a much higher 95% accuracy on 60% of the test set if you allow the model to throw emails that it is unable to confidently place into a queue for human review. In this case, you must decide whether you prefer\n",
    "- An 80% accurate model that automates 100% of the work or...\n",
    "- a 95% accurate model that automates 60% of the work.\n",
    "\n",
    "To determine the right balance for you, feel free to play around with the threshold uncertainty value and determine which threshold is best for your use case.\n",
    "\n",
    "**NOTE**: Do not change the `n_iter` value unless you truly understand what this parameter means. If you do decide to change the `n_iter` value, make sure that the model uses the exact same `n_iter` value in production (i.e. make sure that both test_with_uncertainty and predict_with_uncertainty take the same `n_iter` value. Changing the `n_iter` value alters the scale of the `uncertainty` metric, so we need to make sure `n_iter` is consistant across testing and production to ensure that the threshold uncertainty value we determine during testing works as we expect it to work in production.\n",
    "\n",
    "--- \n",
    "### Steps:\n",
    "- Test the models accuracy across the **entire** test set by setting the uncertainty threshold to `None`, and compare its accuracy to a dummy classifier (i.e. a model that classifies every email into the most frequently occuring backlog. \n",
    "- Show an example for how we can test the models accuracy at a particular uncertainty threshold. \n",
    "- Show a graph of the relationship between the percentage of testing data retained and the model accuracy\n",
    "- Show how we can select an uncertainty thrshold based on a target accuracy, or a target ammount of data we want to retain in production (the percentage of the bug classification that will be automated by the model)."
   ]
  },
  {
   "cell_type": "code",
   "execution_count": 28,
   "metadata": {},
   "outputs": [
    {
     "name": "stdout",
     "output_type": "stream",
     "text": [
      "Test set reduced to % 100\n",
      "Accuracy : % 78.84084636614536\n"
     ]
    }
   ],
   "source": [
    "retained, accuracy = get_monte_carlo_accuracy(preds_df=preds_df, threshold=None)\n",
    "print('Test set reduced to %', retained)\n",
    "print('Accuracy : %', accuracy)"
   ]
  },
  {
   "cell_type": "code",
   "execution_count": 29,
   "metadata": {},
   "outputs": [
    {
     "name": "stdout",
     "output_type": "stream",
     "text": [
      "Zero-Rule Baseline Accuracy: % 18.39926402943882\n",
      "Random (Uniform) Baseline Accuracy: % 2.391904323827047\n"
     ]
    }
   ],
   "source": [
    "# For reference, here is the zero-rule and random baseline accuracies\n",
    "# on the test set:\n",
    "\n",
    "# DummyClassifier only accepts numeric categorical labels, so we convert\n",
    "# our one-hot-encoded labels back to standard levels before passing in:\n",
    "int_train_labels = train_labels.idxmax(axis=1)\n",
    "int_test_labels = test_labels.idxmax(axis=1)\n",
    "\n",
    "clf = DummyClassifier(strategy='most_frequent')\n",
    "clf.fit(train_features, int_train_labels)\n",
    "print(\"Zero-Rule Baseline Accuracy: %\", clf.score(test_features, int_test_labels) * 100)\n",
    "\n",
    "clf = DummyClassifier(strategy='uniform')\n",
    "clf.fit(train_features, int_train_labels)\n",
    "print(\"Random (Uniform) Baseline Accuracy: %\", clf.score(test_features, int_test_labels) * 100)"
   ]
  },
  {
   "cell_type": "code",
   "execution_count": 30,
   "metadata": {},
   "outputs": [
    {
     "name": "stdout",
     "output_type": "stream",
     "text": [
      "Test set reduced to % 40.110395584176636\n",
      "Accuracy : % 96.78899082568807\n"
     ]
    }
   ],
   "source": [
    "# Accuracy with an uncertainty threshold applied:\n",
    "retained, accuracy = get_monte_carlo_accuracy(preds_df=preds_df, threshold=0.04)\n",
    "print('Test set reduced to %', retained)\n",
    "print('Accuracy : %', accuracy)"
   ]
  },
  {
   "cell_type": "code",
   "execution_count": 31,
   "metadata": {},
   "outputs": [
    {
     "data": {
      "text/plain": [
       "('BL-3289', 0.026612099019358963)"
      ]
     },
     "execution_count": 31,
     "metadata": {},
     "output_type": "execute_result"
    }
   ],
   "source": [
    "# Use this function to generate a prediction on a single email. \n",
    "# This function is not relevant in testing the model, but will be used to classify incoming emails later on in production\n",
    "predict_with_uncertainty(assignment_model, test_features.iloc[0], label_to_id, n_iter=100)"
   ]
  },
  {
   "cell_type": "code",
   "execution_count": 32,
   "metadata": {},
   "outputs": [
    {
     "data": {
      "text/plain": [
       "92.05175600739372"
      ]
     },
     "execution_count": 32,
     "metadata": {},
     "output_type": "execute_result"
    },
    {
     "data": {
      "image/png": "[encoded data removed]",
      "text/plain": [
       "<Figure size 432x288 with 1 Axes>"
      ]
     },
     "metadata": {},
     "output_type": "display_data"
    }
   ],
   "source": [
    "# Graph the trade-off between effeciency and accuracy:\n",
    "graph_confidence(preds_df, save=True)"
   ]
  },
  {
   "cell_type": "code",
   "execution_count": 33,
   "metadata": {},
   "outputs": [],
   "source": [
    "from MLFunctions import acc_to_uncertainty, proportion_to_uncertainty"
   ]
  },
  {
   "cell_type": "markdown",
   "metadata": {},
   "source": [
    "### Select Threshold \n",
    "to use in production based on target ammount of data retained or based on target accuracy"
   ]
  },
  {
   "cell_type": "code",
   "execution_count": 34,
   "metadata": {},
   "outputs": [
    {
     "name": "stdout",
     "output_type": "stream",
     "text": [
      "% of test data retained 69.91720331186752\n",
      "Exact accuracy 86.71052631578947\n",
      "Threshold: 0.09997199118838754\n"
     ]
    }
   ],
   "source": [
    "# Retain 70% of data\n",
    "threshold = proportion_to_uncertainty(preds_df, target_prop=70)\n",
    "print('Threshold:', threshold)"
   ]
  },
  {
   "cell_type": "code",
   "execution_count": 35,
   "metadata": {},
   "outputs": [
    {
     "name": "stdout",
     "output_type": "stream",
     "text": [
      "% of test data retained 54.7378104875805\n",
      "Exact accuracy 90.08403361344538\n",
      "Threshold: 0.07020009347002944\n"
     ]
    }
   ],
   "source": [
    "# Reach 90% of accuracy\n",
    "threshold = acc_to_uncertainty(preds_df, target_acc=90)\n",
    "print('Threshold:', threshold)"
   ]
  },
  {
   "cell_type": "code",
   "execution_count": 36,
   "metadata": {},
   "outputs": [],
   "source": [
    "# Deallocate the model:\n",
    "clear_memory(assignment_model)"
   ]
  }
 ],
 "metadata": {
  "kernelspec": {
   "display_name": "nlp-workspace",
   "language": "python",
   "name": "nlp-workspace"
  },
  "language_info": {
   "codemirror_mode": {
    "name": "ipython",
    "version": 3
   },
   "file_extension": ".py",
   "mimetype": "text/x-python",
   "name": "python",
   "nbconvert_exporter": "python",
   "pygments_lexer": "ipython3",
   "version": "3.7.6"
  },
  "toc-autonumbering": false,
  "toc-showcode": false,
  "toc-showmarkdowntxt": false
 },
 "nbformat": 4,
 "nbformat_minor": 4
}
