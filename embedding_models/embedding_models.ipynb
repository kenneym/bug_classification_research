{
 "cells": [
  {
   "cell_type": "markdown",
   "metadata": {},
   "source": [
    "# Embedding Models:\n",
    "**Purpose:** Try additional embedding approaches including document based embedding on the email bodies data\n",
    "\n",
    "**Note**: To run this notebook, you must have already generated the embedding corpora by using the `build_w2vs` ipynb file, and must have at some point preprocessed the email data. To preprocess the email data and pickle it for later use, run up until the preprocessing steps in the `tfidf_model` ipynb file (located in `../tfidf_models`).\n",
    "\n",
    "**Authors**: Jake Epstein & Matt Kenney\n",
    "\n",
    "---"
   ]
  },
  {
   "cell_type": "markdown",
   "metadata": {},
   "source": [
    "## Setup\n",
    "#### Step 1: Import Libraries"
   ]
  },
  {
   "cell_type": "code",
   "execution_count": 1,
   "metadata": {},
   "outputs": [
    {
     "name": "stdout",
     "output_type": "stream",
     "text": [
      "Version:  2.0.1\n",
      "Eager mode:  True\n",
      "Hub version:  0.7.0\n",
      "GPU is available\n"
     ]
    }
   ],
   "source": [
    "import pandas as pd\n",
    "import numpy as np\n",
    "\n",
    "from gensim.models import Word2Vec\n",
    "from gensim.models import KeyedVectors\n",
    "\n",
    "import multiprocessing\n",
    "from sklearn.model_selection import train_test_split\n",
    "from sklearn.preprocessing import normalize\n",
    "\n",
    "import tensorflow as tf\n",
    "from tensorflow import keras\n",
    "from tensorflow.keras import layers\n",
    "from tensorflow.keras.models import Sequential\n",
    "from tensorflow.keras.layers import Dense, Embedding, LSTM, GRU, Dropout, Flatten, Input\n",
    "from tensorflow.keras.wrappers.scikit_learn import KerasClassifier\n",
    "from tensorflow.keras.preprocessing.sequence import pad_sequences\n",
    "from tensorflow.keras.preprocessing.text import Tokenizer\n",
    "\n",
    "import tensorflow_hub as hub\n",
    "import tensorflow_datasets as tfds\n",
    "\n",
    "import matplotlib.pyplot as plt\n",
    "\n",
    "print(\"Version: \", tf.__version__)\n",
    "print(\"Eager mode: \", tf.executing_eagerly())\n",
    "print(\"Hub version: \", hub.__version__)\n",
    "print(\"GPU is\", \"available\" if tf.config.experimental.list_physical_devices(\"GPU\") else \"NOT AVAILABLE\")"
   ]
  },
  {
   "cell_type": "code",
   "execution_count": 2,
   "metadata": {},
   "outputs": [
    {
     "name": "stdout",
     "output_type": "stream",
     "text": [
      "Spacy model is using GPU\n"
     ]
    }
   ],
   "source": [
    "import sys\n",
    "sys.path.insert(1, '../nlp_engine')\n",
    "from MLFunctions import PrintDot, plot_history, clear_memory, predict_with_uncertainty, get_monte_carlo_accuracy\n",
    "from Preprocessing import preprocess_training_text, preprocess_training_text_with_stops"
   ]
  },
  {
   "cell_type": "markdown",
   "metadata": {},
   "source": [
    "#### Step 2: Define Functions to Proccess the Embedding Matrix from W2V Models, Create Document Vectors, etc."
   ]
  },
  {
   "cell_type": "code",
   "execution_count": 3,
   "metadata": {},
   "outputs": [],
   "source": [
    "def process_embedding_matrix(embedding_matrix, word2id):\n",
    "    \n",
    "    \"\"\"\n",
    "    Prepare Embedding Matrix for use in a model by adding tokens for unknown\n",
    "    words and for blank tokens (We will pad our sentences to all include a \n",
    "    set number of words. As such, we need to handle 'empty' or 'blank' words\n",
    "    that trail sentences that are less than the set length.)\n",
    "    \"\"\"\n",
    "    \n",
    "    if 'UNK' not in word2id:\n",
    "        unk_val = len(embedding_matrix)\n",
    "        print('unk_val set to:', unk_val)\n",
    "        word2id.update(UNK = unk_val)\n",
    "        embedding_matrix = np.vstack([embedding_matrix,  np.mean(embedding_matrix, axis=0)])\n",
    "        \n",
    "    # add 'EMPTY_INDEX' token to embedding_matrix to classify padded words as meaningless (np.zeros)\n",
    "    if 'EMPTY_INDEX' not in word2id:\n",
    "        empty_val= 0\n",
    "        print('empty_val set to:', empty_val)\n",
    "        word2id.update(EMPTY_INDEX = empty_val)\n",
    "        embedding_matrix = np.vstack([np.zeros((1, embedding_matrix.shape[1])), embedding_matrix])\n",
    "        \n",
    "    return embedding_matrix"
   ]
  },
  {
   "cell_type": "code",
   "execution_count": 4,
   "metadata": {},
   "outputs": [],
   "source": [
    "def get_index(input_list, embedding_matrix, word2id, maskzero=False):\n",
    "    \n",
    "    max_length = 0\n",
    "    index_list_list = []\n",
    "    word_list = []\n",
    "    \n",
    "    # Loop through each sentence in the input:\n",
    "    for sentence in input_list:\n",
    "        word_list = sentence.split()\n",
    "        index_list = []\n",
    "        \n",
    "        # Update max_length:\n",
    "        if len(word_list) > max_length:\n",
    "            max_length = len(word_list)\n",
    "        \n",
    "        # Return indicies corresponding to each word in the \n",
    "        for word in word_list:\n",
    "            \n",
    "            # Word is found in the vocabulary of the w2v model:\n",
    "            if word in word2id:\n",
    "                index_list.append(word2id[word])\n",
    "            # Unknown word\n",
    "            else:\n",
    "                index_list.append(word2id.get('UNK'))\n",
    "                \n",
    "        index_list_list.append(index_list)\n",
    "        \n",
    "    # Pad the index list according to max_length of the input:\n",
    "    index_list_list = pad_sequences(index_list_list, maxlen = max_length, padding='post', value=word2id.get('EMPTY_INDEX'))\n",
    "    return index_list_list, max_length"
   ]
  },
  {
   "cell_type": "code",
   "execution_count": 5,
   "metadata": {},
   "outputs": [],
   "source": [
    "# function to generate document embedding vectors\n",
    "def generate_doc_embedding_data(data, embedding_matrix) -> pd.DataFrame:\n",
    "    \n",
    "    new_data = []\n",
    "    embedding_vectors = tf.nn.embedding_lookup(\n",
    "                        params=embedding_matrix,\n",
    "                        ids=data,\n",
    "                        max_norm=None,\n",
    "                        name=None)\n",
    "    \n",
    "    embedding_sums = np.sum(embedding_vectors.numpy(), axis=1)\n",
    "    normed_doc_embedding_vectors = normalize(embedding_sums, norm='l2', axis=1, copy=True, return_norm=False)\n",
    "    return pd.DataFrame(normed_doc_embedding_vectors)"
   ]
  },
  {
   "cell_type": "markdown",
   "metadata": {},
   "source": [
    "#### Step 3: Define Functions to Generate Standard Embedding Models and Doc Embedding Models"
   ]
  },
  {
   "cell_type": "code",
   "execution_count": 6,
   "metadata": {},
   "outputs": [],
   "source": [
    "def build_embedding_model(embedding_matrix, word2id, max_length, labels, optimizer, lr, num_units):\n",
    "    \n",
    "    embedding_dim = embedding_matrix.shape[1]\n",
    "    vocab_size = len(word2id)\n",
    "    \n",
    "    model = Sequential()\n",
    "    model.add(Embedding(input_dim=vocab_size, output_dim=embedding_dim, weights=[embedding_matrix], input_length=max_length, mask_zero=True))\n",
    "    model.add(LSTM(units=num_units, dropout=0.2, recurrent_dropout=0.2))\n",
    "    model.add(Dense(len(labels.keys()), activation='softmax'))\n",
    "    \n",
    "    # Parameters\n",
    "    if optimizer == 'adam':\n",
    "        optimizer = tf.keras.optimizers.Adam(lr)\n",
    "        \n",
    "    elif optimizer == 'rmsprop':\n",
    "        optimizer = tf.keras.optimizers.RMSprop(lr)\n",
    "    \n",
    "    elif optimizer == 'adagrad':\n",
    "        optimizer = tf.keras.optimizers.Adagrad(lr)\n",
    "    else:\n",
    "        print(\"ERROR: No optimizer passed\")\n",
    "        return None\n",
    "\n",
    "    model.compile(loss='kullback_leibler_divergence',\n",
    "                    optimizer=optimizer,\n",
    "                    metrics=['accuracy'])\n",
    "    \n",
    "    return model"
   ]
  },
  {
   "cell_type": "code",
   "execution_count": 7,
   "metadata": {},
   "outputs": [],
   "source": [
    "# Using Keras Sequential model for regression analyses\n",
    "def build_doc_model(features, labels, optimizer, activations, lr, drop_rate, layer1_size, layer2_size=None, layer3_size=None, layer4_size=None):\n",
    "    \n",
    "    model = Sequential()\n",
    "    model.add(Input(shape=[len(features.keys())], name=\"Doc-Embedding-Features\"))\n",
    "    model.add(Dense(layer1_size, activation=activations[0], input_shape=[len(features.keys())]))\n",
    "    \n",
    "    if layer2_size:\n",
    "        model.add(Dropout(drop_rate, trainable=True))\n",
    "        model.add(Dense(layer2_size, activation=activations[1]))\n",
    "    \n",
    "    if layer3_size:\n",
    "        model.add(Dropout(drop_rate, trainable=True))\n",
    "        model.add(Dense(layer3_size, activation=activations[2]))\n",
    "    \n",
    "    if layer4_size:\n",
    "        model.add(Dropout(drop_rate, trainable=True))\n",
    "        model.add(Dense(layer4_size, activation=activations[3]))\n",
    "    \n",
    "    model.add(Dropout(drop_rate, trainable=True))\n",
    "    model.add(Dense(len(labels.keys()), activation='softmax', name=\"softmax_output\"))\n",
    "    \n",
    "    # Parameters\n",
    "    if optimizer == 'adam':\n",
    "        optimizer = tf.keras.optimizers.Adam(lr)\n",
    "    elif optimizer == 'adamax':\n",
    "        optimizer = tf.keras.optimizers.Adamax()\n",
    "    elif optimizer == 'nadam':\n",
    "        optimizer = tf.keras.optimizers.Nadam()\n",
    "    elif optimizer == 'rmsprop':\n",
    "        optimizer = tf.keras.optimizers.RMSprop(lr)\n",
    "    elif optimizer == 'adagrad':\n",
    "        optimizer = tf.keras.optimizers.Adagrad()\n",
    "    elif optimizer == 'adadelta':\n",
    "        optimizer = tf.keras.optimizers.Adadelta()\n",
    "    else:\n",
    "        print(\"ERROR: No optimizer passed\")\n",
    "        return None\n",
    "    \n",
    "    \n",
    "    model.compile(loss='kullback_leibler_divergence',\n",
    "                optimizer=optimizer,\n",
    "                metrics=['accuracy'])\n",
    "    \n",
    "    return model"
   ]
  },
  {
   "cell_type": "markdown",
   "metadata": {},
   "source": [
    "## Testing the Performance of Different W2V Models\n",
    "using both standard and document embedding techniques. Below, we test \n",
    "1. Document and standard embedding approach with the pega corpus only\n",
    "2. Document and standard approach with the pega & brown corpus combined\n",
    "3. A google hub model, which uses a pretrained embedding model under the hood, and employs a document embedding approach."
   ]
  },
  {
   "cell_type": "markdown",
   "metadata": {},
   "source": [
    "### 1. Embedding approaches with the Pega corpus (only) w2v model "
   ]
  },
  {
   "cell_type": "markdown",
   "metadata": {},
   "source": [
    "#### Load Model"
   ]
  },
  {
   "cell_type": "code",
   "execution_count": 8,
   "metadata": {},
   "outputs": [],
   "source": [
    "# Load the Model\n",
    "word_vectors = KeyedVectors.load(\"../saved_models/word_embeddings/pega_corpus.kv\", mmap='r')"
   ]
  },
  {
   "cell_type": "code",
   "execution_count": 9,
   "metadata": {},
   "outputs": [
    {
     "data": {
      "text/plain": [
       "[('join', 605),\n",
       " ('boston', 2420),\n",
       " ('pegaworld', 314),\n",
       " ('inspire', 405),\n",
       " ('june', 1650)]"
      ]
     },
     "execution_count": 9,
     "metadata": {},
     "output_type": "execute_result"
    }
   ],
   "source": [
    "# create a dictionary to map words to index in embedding matrix, create embedding matrix\n",
    "word2id = {k: v.index for k, v in word_vectors.vocab.items()}\n",
    "embedding_matrix = word_vectors.vectors\n",
    "embedding_matrix = embedding_matrix.astype('float32')\n",
    "\n",
    "# See how word2id maps words to the index of their embedding vectors\n",
    "list(word2id.items())[:5]"
   ]
  },
  {
   "cell_type": "code",
   "execution_count": 10,
   "metadata": {},
   "outputs": [
    {
     "name": "stdout",
     "output_type": "stream",
     "text": [
      "Vocab Size: 8853 \n",
      "Embedding Vector Size: 300\n"
     ]
    }
   ],
   "source": [
    "vocab_size, embedding_dim = embedding_matrix.shape\n",
    "print('Vocab Size:', vocab_size, '\\nEmbedding Vector Size:', embedding_dim)"
   ]
  },
  {
   "cell_type": "markdown",
   "metadata": {},
   "source": [
    "#### Load Data"
   ]
  },
  {
   "cell_type": "code",
   "execution_count": 11,
   "metadata": {},
   "outputs": [],
   "source": [
    "# Load the Data (Assuming it has already been preprocessed)\n",
    "assigned_bugs = pd.read_pickle(\"../data/pickles/preprocessed_bugs.pkl\")\n",
    "category='combined'"
   ]
  },
  {
   "cell_type": "code",
   "execution_count": 12,
   "metadata": {},
   "outputs": [
    {
     "name": "stdout",
     "output_type": "stream",
     "text": [
      "unk_val set to: 8853\n",
      "empty_val set to: 0\n"
     ]
    }
   ],
   "source": [
    "# Prepare Embedding Matrix for use with ML:\n",
    "embedding_matrix = process_embedding_matrix(embedding_matrix, word2id)"
   ]
  },
  {
   "cell_type": "markdown",
   "metadata": {},
   "source": [
    "#### Generate Standard and Document Embedding Representations + Train-Test Split"
   ]
  },
  {
   "cell_type": "code",
   "execution_count": 13,
   "metadata": {},
   "outputs": [],
   "source": [
    "# Index Examples can be passed directly into standard embedding models.\n",
    "# They contain the indicies of word vectors representing each word\n",
    "# in a given email, and are padded by 'empty_val' indicies\n",
    "index_examples, max_length = get_index(assigned_bugs[category], embedding_matrix, word2id)"
   ]
  },
  {
   "cell_type": "code",
   "execution_count": 14,
   "metadata": {},
   "outputs": [],
   "source": [
    "# Document Vectors Represent the entire document as a single embedding vector\n",
    "# The doc vector is the result of combining and normalizing the vectors\n",
    "# representing each word in the email\n",
    "document_vectors = generate_doc_embedding_data(index_examples, embedding_matrix)"
   ]
  },
  {
   "cell_type": "code",
   "execution_count": 15,
   "metadata": {},
   "outputs": [],
   "source": [
    "backlog_labels = pd.get_dummies(assigned_bugs['backlog_id']).astype('float32')\n",
    "std_embedding_data = pd.DataFrame(index_examples.astype('float32'))\n",
    "document_vectors = pd.DataFrame(document_vectors.astype('float32'))"
   ]
  },
  {
   "cell_type": "code",
   "execution_count": 16,
   "metadata": {},
   "outputs": [],
   "source": [
    "seed = np.random.randint(1000)\n",
    "\n",
    "std_train_features, std_test_features, train_labels, test_labels = train_test_split(std_embedding_data, backlog_labels, \n",
    "                                                                                    test_size=0.2, random_state=seed)\n",
    "doc_train_features, doc_test_features, train_labels, test_labels = train_test_split(document_vectors, backlog_labels, \n",
    "                                                                                    test_size=0.2, random_state=seed)"
   ]
  },
  {
   "cell_type": "markdown",
   "metadata": {},
   "source": [
    "#### Build and Train the Models"
   ]
  },
  {
   "cell_type": "code",
   "execution_count": 17,
   "metadata": {},
   "outputs": [],
   "source": [
    "try:\n",
    "    pega_std_emb_model\n",
    "except NameError:\n",
    "    pega_std_emb_model = None\n",
    "    \n",
    "clear_memory(pega_std_emb_model)\n",
    "pega_std_emb_model = build_embedding_model(embedding_matrix=embedding_matrix, \n",
    "                                           word2id=word2id, \n",
    "                                           max_length=max_length, \n",
    "                                           labels=train_labels, \n",
    "                                           optimizer='adam', \n",
    "                                           lr=0.001, \n",
    "                                           num_units=100)"
   ]
  },
  {
   "cell_type": "code",
   "execution_count": 18,
   "metadata": {},
   "outputs": [
    {
     "name": "stdout",
     "output_type": "stream",
     "text": [
      "Model: \"sequential\"\n",
      "_________________________________________________________________\n",
      "Layer (type)                 Output Shape              Param #   \n",
      "=================================================================\n",
      "embedding (Embedding)        (None, 295, 300)          2656500   \n",
      "_________________________________________________________________\n",
      "lstm (LSTM)                  (None, 100)               160400    \n",
      "_________________________________________________________________\n",
      "dense (Dense)                (None, 47)                4747      \n",
      "=================================================================\n",
      "Total params: 2,821,647\n",
      "Trainable params: 2,821,647\n",
      "Non-trainable params: 0\n",
      "_________________________________________________________________\n"
     ]
    }
   ],
   "source": [
    "pega_std_emb_model.summary()"
   ]
  },
  {
   "cell_type": "code",
   "execution_count": 19,
   "metadata": {},
   "outputs": [
    {
     "name": "stdout",
     "output_type": "stream",
     "text": [
      "WARNING:tensorflow:Falling back from v2 loop because of error: Failed to find data adapter that can handle input: <class 'pandas.core.frame.DataFrame'>, <class 'NoneType'>\n",
      "Train on 3912 samples, validate on 435 samples\n",
      "Epoch 1/1000\n",
      "3904/3912 [============================>.] - ETA: 0s - loss: 3.2521 - accuracy: 0.2026\n",
      "3912/3912 [==============================] - 39s 10ms/sample - loss: 3.2506 - accuracy: 0.2030 - val_loss: 3.0143 - val_accuracy: 0.2322\n",
      "Epoch 2/1000\n",
      "3912/3912 [==============================] - 38s 10ms/sample - loss: 2.7233 - accuracy: 0.2983 - val_loss: 2.5935 - val_accuracy: 0.3218\n",
      "Epoch 3/1000\n",
      "3912/3912 [==============================] - 38s 10ms/sample - loss: 2.3060 - accuracy: 0.3768 - val_loss: 2.3107 - val_accuracy: 0.3655\n",
      "Epoch 4/1000\n",
      "3912/3912 [==============================] - 38s 10ms/sample - loss: 1.9638 - accuracy: 0.4716 - val_loss: 2.1121 - val_accuracy: 0.4230\n",
      "Epoch 5/1000\n",
      "3912/3912 [==============================] - 38s 10ms/sample - loss: 1.7102 - accuracy: 0.5422 - val_loss: 1.9365 - val_accuracy: 0.4644\n",
      "Epoch 6/1000\n",
      "3912/3912 [==============================] - 38s 10ms/sample - loss: 1.4915 - accuracy: 0.6076 - val_loss: 1.8600 - val_accuracy: 0.4920\n",
      "Epoch 7/1000\n",
      "3912/3912 [==============================] - 38s 10ms/sample - loss: 1.2820 - accuracy: 0.6552 - val_loss: 1.7194 - val_accuracy: 0.5264\n",
      "Epoch 8/1000\n",
      "3912/3912 [==============================] - 38s 10ms/sample - loss: 1.0961 - accuracy: 0.7045 - val_loss: 1.7040 - val_accuracy: 0.5195\n",
      "Epoch 9/1000\n",
      "3912/3912 [==============================] - 38s 10ms/sample - loss: 0.9425 - accuracy: 0.7487 - val_loss: 1.6222 - val_accuracy: 0.5494\n",
      "Epoch 10/1000\n",
      "3912/3912 [==============================] - 38s 10ms/sample - loss: 0.8229 - accuracy: 0.7807 - val_loss: 1.6018 - val_accuracy: 0.5471\n",
      "Epoch 11/1000\n",
      "3912/3912 [==============================] - 38s 10ms/sample - loss: 0.7171 - accuracy: 0.8152 - val_loss: 1.6259 - val_accuracy: 0.5655\n",
      "Epoch 12/1000\n",
      "3912/3912 [==============================] - 38s 10ms/sample - loss: 0.6341 - accuracy: 0.8336 - val_loss: 1.5515 - val_accuracy: 0.5793\n",
      "Epoch 13/1000\n",
      "3912/3912 [==============================] - 38s 10ms/sample - loss: 0.5630 - accuracy: 0.8492 - val_loss: 1.6081 - val_accuracy: 0.5839\n",
      "Epoch 14/1000\n",
      "3912/3912 [==============================] - 38s 10ms/sample - loss: 0.5064 - accuracy: 0.8648 - val_loss: 1.5759 - val_accuracy: 0.5839\n",
      "Epoch 15/1000\n",
      "3912/3912 [==============================] - 38s 10ms/sample - loss: 0.4712 - accuracy: 0.8735 - val_loss: 1.6138 - val_accuracy: 0.5908\n",
      "Epoch 16/1000\n",
      "3912/3912 [==============================] - 38s 10ms/sample - loss: 0.4252 - accuracy: 0.8857 - val_loss: 1.6334 - val_accuracy: 0.5793\n",
      "Epoch 17/1000\n",
      "3912/3912 [==============================] - 38s 10ms/sample - loss: 0.3958 - accuracy: 0.8903 - val_loss: 1.6538 - val_accuracy: 0.5885\n",
      "Epoch 18/1000\n",
      "3912/3912 [==============================] - 38s 10ms/sample - loss: 0.3645 - accuracy: 0.8985 - val_loss: 1.6371 - val_accuracy: 0.5885\n",
      "Epoch 19/1000\n",
      "3912/3912 [==============================] - 38s 10ms/sample - loss: 0.3400 - accuracy: 0.9041 - val_loss: 1.6105 - val_accuracy: 0.6092\n",
      "Epoch 20/1000\n",
      "3912/3912 [==============================] - 38s 10ms/sample - loss: 0.3090 - accuracy: 0.9149 - val_loss: 1.6215 - val_accuracy: 0.6023\n",
      "Epoch 21/1000\n",
      "3912/3912 [==============================] - 38s 10ms/sample - loss: 0.2935 - accuracy: 0.9190 - val_loss: 1.6144 - val_accuracy: 0.6092\n",
      "Epoch 22/1000\n",
      "3912/3912 [==============================] - 38s 10ms/sample - loss: 0.2568 - accuracy: 0.9266 - val_loss: 1.5838 - val_accuracy: 0.6184\n",
      "Epoch 23/1000\n",
      "3912/3912 [==============================] - 38s 10ms/sample - loss: 0.2597 - accuracy: 0.9256 - val_loss: 1.6035 - val_accuracy: 0.6345\n",
      "Epoch 24/1000\n",
      "3912/3912 [==============================] - 38s 10ms/sample - loss: 0.2305 - accuracy: 0.9340 - val_loss: 1.6416 - val_accuracy: 0.6253\n",
      "Epoch 25/1000\n",
      "3912/3912 [==============================] - 38s 10ms/sample - loss: 0.2174 - accuracy: 0.9387 - val_loss: 1.6333 - val_accuracy: 0.6391\n",
      "Epoch 26/1000\n",
      "3912/3912 [==============================] - 38s 10ms/sample - loss: 0.2085 - accuracy: 0.9394 - val_loss: 1.6188 - val_accuracy: 0.6414\n",
      "Epoch 27/1000\n",
      "3912/3912 [==============================] - 38s 10ms/sample - loss: 0.1894 - accuracy: 0.9422 - val_loss: 1.6604 - val_accuracy: 0.6414\n",
      "Epoch 28/1000\n",
      "3912/3912 [==============================] - 38s 10ms/sample - loss: 0.1810 - accuracy: 0.9433 - val_loss: 1.6669 - val_accuracy: 0.6230\n",
      "Epoch 29/1000\n",
      "3912/3912 [==============================] - 38s 10ms/sample - loss: 0.1801 - accuracy: 0.9484 - val_loss: 1.6511 - val_accuracy: 0.6184\n",
      "Epoch 30/1000\n",
      "3912/3912 [==============================] - 38s 10ms/sample - loss: 0.1687 - accuracy: 0.9530 - val_loss: 1.6484 - val_accuracy: 0.6414\n",
      "Epoch 31/1000\n",
      "3912/3912 [==============================] - 38s 10ms/sample - loss: 0.1513 - accuracy: 0.9555 - val_loss: 1.6795 - val_accuracy: 0.6299\n",
      "Epoch 32/1000\n",
      "3912/3912 [==============================] - 38s 10ms/sample - loss: 0.1460 - accuracy: 0.9512 - val_loss: 1.6617 - val_accuracy: 0.6552\n",
      "Epoch 33/1000\n",
      "3912/3912 [==============================] - 38s 10ms/sample - loss: 0.1444 - accuracy: 0.9560 - val_loss: 1.7171 - val_accuracy: 0.6391\n",
      "Epoch 34/1000\n",
      "3912/3912 [==============================] - 38s 10ms/sample - loss: 0.1358 - accuracy: 0.9568 - val_loss: 1.6970 - val_accuracy: 0.6391\n",
      "Epoch 35/1000\n",
      "3912/3912 [==============================] - 38s 10ms/sample - loss: 0.1314 - accuracy: 0.9586 - val_loss: 1.7085 - val_accuracy: 0.6391\n",
      "Epoch 36/1000\n",
      "3912/3912 [==============================] - 38s 10ms/sample - loss: 0.1301 - accuracy: 0.9576 - val_loss: 1.6607 - val_accuracy: 0.6483\n",
      "Epoch 37/1000\n",
      "3912/3912 [==============================] - 38s 10ms/sample - loss: 0.1230 - accuracy: 0.9632 - val_loss: 1.7533 - val_accuracy: 0.6299\n",
      "Epoch 38/1000\n",
      "3912/3912 [==============================] - 38s 10ms/sample - loss: 0.1113 - accuracy: 0.9688 - val_loss: 1.7101 - val_accuracy: 0.6506\n",
      "Epoch 39/1000\n",
      "3912/3912 [==============================] - 38s 10ms/sample - loss: 0.1082 - accuracy: 0.9675 - val_loss: 1.7009 - val_accuracy: 0.6552\n",
      "Epoch 40/1000\n",
      "3912/3912 [==============================] - 38s 10ms/sample - loss: 0.1102 - accuracy: 0.9673 - val_loss: 1.7512 - val_accuracy: 0.6414\n",
      "Epoch 41/1000\n",
      "3912/3912 [==============================] - 38s 10ms/sample - loss: 0.1019 - accuracy: 0.9683 - val_loss: 1.7500 - val_accuracy: 0.6506\n",
      "Epoch 42/1000\n",
      "3912/3912 [==============================] - 38s 10ms/sample - loss: 0.1007 - accuracy: 0.9703 - val_loss: 1.7505 - val_accuracy: 0.6644\n",
      "Epoch 43/1000\n",
      "3912/3912 [==============================] - 38s 10ms/sample - loss: 0.0943 - accuracy: 0.9698 - val_loss: 1.7390 - val_accuracy: 0.6644\n",
      "Epoch 44/1000\n",
      "3912/3912 [==============================] - 38s 10ms/sample - loss: 0.0916 - accuracy: 0.9709 - val_loss: 1.7770 - val_accuracy: 0.6460\n",
      "Epoch 45/1000\n",
      "3912/3912 [==============================] - 38s 10ms/sample - loss: 0.0882 - accuracy: 0.9732 - val_loss: 1.8221 - val_accuracy: 0.6460\n",
      "Epoch 46/1000\n",
      "3912/3912 [==============================] - 38s 10ms/sample - loss: 0.0868 - accuracy: 0.9721 - val_loss: 1.7370 - val_accuracy: 0.6529\n",
      "Epoch 47/1000\n",
      "3912/3912 [==============================] - 38s 10ms/sample - loss: 0.0878 - accuracy: 0.9726 - val_loss: 1.7968 - val_accuracy: 0.6460\n",
      "Epoch 48/1000\n",
      "3912/3912 [==============================] - 38s 10ms/sample - loss: 0.0829 - accuracy: 0.9716 - val_loss: 1.7908 - val_accuracy: 0.6391\n",
      "Epoch 49/1000\n",
      "3912/3912 [==============================] - 38s 10ms/sample - loss: 0.0815 - accuracy: 0.9752 - val_loss: 1.8430 - val_accuracy: 0.6483\n",
      "Epoch 50/1000\n",
      "3912/3912 [==============================] - 38s 10ms/sample - loss: 0.0746 - accuracy: 0.9765 - val_loss: 1.8280 - val_accuracy: 0.6552\n",
      "Epoch 51/1000\n",
      "3912/3912 [==============================] - 38s 10ms/sample - loss: 0.0750 - accuracy: 0.9772 - val_loss: 1.8372 - val_accuracy: 0.6460\n",
      "Epoch 52/1000\n",
      "3912/3912 [==============================] - 38s 10ms/sample - loss: 0.0774 - accuracy: 0.9749 - val_loss: 1.8869 - val_accuracy: 0.6368\n",
      "Epoch 53/1000\n",
      "3912/3912 [==============================] - 38s 10ms/sample - loss: 0.0777 - accuracy: 0.9755 - val_loss: 1.8514 - val_accuracy: 0.6460\n",
      "Epoch 54/1000\n",
      "3912/3912 [==============================] - 38s 10ms/sample - loss: 0.0767 - accuracy: 0.9772 - val_loss: 1.8336 - val_accuracy: 0.6391\n",
      "Epoch 55/1000\n",
      "3912/3912 [==============================] - 38s 10ms/sample - loss: 0.0675 - accuracy: 0.9788 - val_loss: 1.8388 - val_accuracy: 0.6552\n",
      "Epoch 56/1000\n",
      "3912/3912 [==============================] - 38s 10ms/sample - loss: 0.0666 - accuracy: 0.9790 - val_loss: 1.8437 - val_accuracy: 0.6483\n",
      "Epoch 57/1000\n",
      "3912/3912 [==============================] - 38s 10ms/sample - loss: 0.0650 - accuracy: 0.9780 - val_loss: 1.9071 - val_accuracy: 0.6483\n",
      "Epoch 58/1000\n",
      "3912/3912 [==============================] - 38s 10ms/sample - loss: 0.0695 - accuracy: 0.9755 - val_loss: 1.8639 - val_accuracy: 0.6483\n",
      "Epoch 59/1000\n",
      "3912/3912 [==============================] - 38s 10ms/sample - loss: 0.0582 - accuracy: 0.9819 - val_loss: 1.9191 - val_accuracy: 0.6575\n",
      "Epoch 60/1000\n",
      "3912/3912 [==============================] - 38s 10ms/sample - loss: 0.0609 - accuracy: 0.9796 - val_loss: 1.9290 - val_accuracy: 0.6667\n",
      "Epoch 61/1000\n",
      "3912/3912 [==============================] - 38s 10ms/sample - loss: 0.0607 - accuracy: 0.9790 - val_loss: 1.9242 - val_accuracy: 0.6552\n",
      "Epoch 62/1000\n",
      "3912/3912 [==============================] - 38s 10ms/sample - loss: 0.0563 - accuracy: 0.9819 - val_loss: 1.9106 - val_accuracy: 0.6529\n",
      "Epoch 63/1000\n",
      "3912/3912 [==============================] - 38s 10ms/sample - loss: 0.0566 - accuracy: 0.9785 - val_loss: 1.9713 - val_accuracy: 0.6483\n",
      "Epoch 64/1000\n",
      "3912/3912 [==============================] - 38s 10ms/sample - loss: 0.0560 - accuracy: 0.9811 - val_loss: 1.9550 - val_accuracy: 0.6391\n",
      "Epoch 65/1000\n",
      "3912/3912 [==============================] - 38s 10ms/sample - loss: 0.0548 - accuracy: 0.9803 - val_loss: 1.9417 - val_accuracy: 0.6506\n",
      "Epoch 66/1000\n",
      "3912/3912 [==============================] - 38s 10ms/sample - loss: 0.0550 - accuracy: 0.9826 - val_loss: 1.9436 - val_accuracy: 0.6368\n",
      "Epoch 67/1000\n",
      "3912/3912 [==============================] - 38s 10ms/sample - loss: 0.0560 - accuracy: 0.9803 - val_loss: 1.9682 - val_accuracy: 0.6529\n",
      "Epoch 68/1000\n",
      "3912/3912 [==============================] - 38s 10ms/sample - loss: 0.0517 - accuracy: 0.9808 - val_loss: 1.9840 - val_accuracy: 0.6391\n",
      "Epoch 69/1000\n",
      "3912/3912 [==============================] - 38s 10ms/sample - loss: 0.0499 - accuracy: 0.9821 - val_loss: 2.0268 - val_accuracy: 0.6598\n",
      "Epoch 70/1000\n",
      "3912/3912 [==============================] - 38s 10ms/sample - loss: 0.0549 - accuracy: 0.9806 - val_loss: 1.9259 - val_accuracy: 0.6460\n",
      "Epoch 71/1000\n",
      "3912/3912 [==============================] - 38s 10ms/sample - loss: 0.0526 - accuracy: 0.9824 - val_loss: 1.9878 - val_accuracy: 0.6575\n",
      "Epoch 72/1000\n",
      "3912/3912 [==============================] - 38s 10ms/sample - loss: 0.0502 - accuracy: 0.9816 - val_loss: 1.9649 - val_accuracy: 0.6437\n",
      "Epoch 73/1000\n",
      "3912/3912 [==============================] - 38s 10ms/sample - loss: 0.0480 - accuracy: 0.9811 - val_loss: 1.9670 - val_accuracy: 0.6644\n",
      "Epoch 74/1000\n",
      "3912/3912 [==============================] - 38s 10ms/sample - loss: 0.0446 - accuracy: 0.9821 - val_loss: 2.0043 - val_accuracy: 0.6621\n",
      "Epoch 75/1000\n",
      "3912/3912 [==============================] - 38s 10ms/sample - loss: 0.0433 - accuracy: 0.9829 - val_loss: 1.9720 - val_accuracy: 0.6667\n",
      "Epoch 76/1000\n",
      "3912/3912 [==============================] - 38s 10ms/sample - loss: 0.0475 - accuracy: 0.9813 - val_loss: 1.9958 - val_accuracy: 0.6667\n",
      "Epoch 77/1000\n",
      "3912/3912 [==============================] - 38s 10ms/sample - loss: 0.0510 - accuracy: 0.9821 - val_loss: 2.0354 - val_accuracy: 0.6345\n",
      "Epoch 78/1000\n",
      "3912/3912 [==============================] - 38s 10ms/sample - loss: 0.0446 - accuracy: 0.9836 - val_loss: 2.0709 - val_accuracy: 0.6529\n",
      "Epoch 79/1000\n",
      "3912/3912 [==============================] - 38s 10ms/sample - loss: 0.0468 - accuracy: 0.9831 - val_loss: 2.0374 - val_accuracy: 0.6391\n",
      "Epoch 80/1000\n",
      "3912/3912 [==============================] - 38s 10ms/sample - loss: 0.0448 - accuracy: 0.9842 - val_loss: 2.0797 - val_accuracy: 0.6368\n"
     ]
    }
   ],
   "source": [
    "## Define Params for this model:\n",
    "early_stop = keras.callbacks.EarlyStopping(monitor='val_accuracy', restore_best_weights=True, patience=20)\n",
    "pega_std_emb_history = pega_std_emb_model.fit(std_train_features, \n",
    "                                              train_labels,\n",
    "                                              epochs=1000, \n",
    "                                              validation_split = 0.1, \n",
    "                                              callbacks=[early_stop, PrintDot()],\n",
    "                                              verbose=1)"
   ]
  },
  {
   "cell_type": "code",
   "execution_count": 20,
   "metadata": {},
   "outputs": [
    {
     "data": {
      "text/plain": [
       "<Figure size 432x288 with 0 Axes>"
      ]
     },
     "metadata": {},
     "output_type": "display_data"
    },
    {
     "data": {
      "image/png": "[encoded data removed]",
      "text/plain": [
       "<Figure size 432x288 with 1 Axes>"
      ]
     },
     "metadata": {
      "needs_background": "light"
     },
     "output_type": "display_data"
    }
   ],
   "source": [
    "plot_history(pega_std_emb_history, \"Accuracy: Standard Embedding with Pega Corpus W2V + LSTM Model\")"
   ]
  },
  {
   "cell_type": "code",
   "execution_count": 21,
   "metadata": {},
   "outputs": [],
   "source": [
    "clear_memory(pega_std_emb_model)"
   ]
  },
  {
   "cell_type": "code",
   "execution_count": 22,
   "metadata": {},
   "outputs": [],
   "source": [
    "try:\n",
    "    pega_doc_emb_model\n",
    "except NameError:\n",
    "    pega_doc_emb_model = None\n",
    "    \n",
    "clear_memory(pega_doc_emb_model)\n",
    "pega_doc_emb_model = build_doc_model(features = doc_train_features, \n",
    "                                     labels = train_labels, \n",
    "                                     optimizer = 'adam',\n",
    "                                     activations =['elu', 'tanh'],\n",
    "                                     lr = 0.0001, \n",
    "                                     drop_rate=0.3,\n",
    "                                     layer1_size = 200,\n",
    "                                     layer2_size= 100, \n",
    "                                     layer3_size= None,\n",
    "                                     layer4_size= None)"
   ]
  },
  {
   "cell_type": "code",
   "execution_count": 23,
   "metadata": {},
   "outputs": [
    {
     "name": "stdout",
     "output_type": "stream",
     "text": [
      "Model: \"sequential\"\n",
      "_________________________________________________________________\n",
      "Layer (type)                 Output Shape              Param #   \n",
      "=================================================================\n",
      "dense (Dense)                (None, 200)               60200     \n",
      "_________________________________________________________________\n",
      "dropout (Dropout)            (None, 200)               0         \n",
      "_________________________________________________________________\n",
      "dense_1 (Dense)              (None, 100)               20100     \n",
      "_________________________________________________________________\n",
      "dropout_1 (Dropout)          (None, 100)               0         \n",
      "_________________________________________________________________\n",
      "softmax_output (Dense)       (None, 47)                4747      \n",
      "=================================================================\n",
      "Total params: 85,047\n",
      "Trainable params: 85,047\n",
      "Non-trainable params: 0\n",
      "_________________________________________________________________\n"
     ]
    }
   ],
   "source": [
    "pega_doc_emb_model.summary()"
   ]
  },
  {
   "cell_type": "code",
   "execution_count": 24,
   "metadata": {},
   "outputs": [
    {
     "name": "stdout",
     "output_type": "stream",
     "text": [
      "WARNING:tensorflow:Falling back from v2 loop because of error: Failed to find data adapter that can handle input: <class 'pandas.core.frame.DataFrame'>, <class 'NoneType'>\n",
      "\n",
      "....................................................................................................\n",
      "............................................................."
     ]
    }
   ],
   "source": [
    "early_stop = keras.callbacks.EarlyStopping(monitor='val_accuracy', restore_best_weights=True, patience=20)\n",
    "pega_doc_emb_history = pega_doc_emb_model.fit(doc_train_features, \n",
    "                                 train_labels, \n",
    "                                 epochs=1000, \n",
    "                                 validation_split = 0.2, \n",
    "                                 callbacks=[early_stop, PrintDot()],\n",
    "                                 verbose=0)"
   ]
  },
  {
   "cell_type": "code",
   "execution_count": 25,
   "metadata": {},
   "outputs": [
    {
     "data": {
      "text/plain": [
       "<Figure size 432x288 with 0 Axes>"
      ]
     },
     "metadata": {},
     "output_type": "display_data"
    },
    {
     "data": {
      "image/png": "[encoded data removed]",
      "text/plain": [
       "<Figure size 432x288 with 1 Axes>"
      ]
     },
     "metadata": {
      "needs_background": "light"
     },
     "output_type": "display_data"
    }
   ],
   "source": [
    "plot_history(pega_doc_emb_history, \"Accuracy: Doc Embedding with Pega Corpus W2V + Dense Model\")"
   ]
  },
  {
   "cell_type": "code",
   "execution_count": 26,
   "metadata": {},
   "outputs": [],
   "source": [
    "clear_memory(pega_doc_emb_model)"
   ]
  },
  {
   "cell_type": "markdown",
   "metadata": {},
   "source": [
    "### 1. Embedding approaches with the combined (Pega + Brown) corpus w2v model "
   ]
  },
  {
   "cell_type": "code",
   "execution_count": 27,
   "metadata": {},
   "outputs": [],
   "source": [
    "# Load the Model\n",
    "word_vectors = KeyedVectors.load(\"../saved_models/word_embeddings/combined_corpus.kv\", mmap='r')"
   ]
  },
  {
   "cell_type": "code",
   "execution_count": 28,
   "metadata": {},
   "outputs": [
    {
     "data": {
      "text/plain": [
       "[('make', 161), ('complex', 757), ('simple', 435), ('year', 174), ('.', 0)]"
      ]
     },
     "execution_count": 28,
     "metadata": {},
     "output_type": "execute_result"
    }
   ],
   "source": [
    "# create a dictionary to map words to index in embedding matrix, create embedding matrix\n",
    "word2id = {k: v.index for k, v in word_vectors.vocab.items()}\n",
    "embedding_matrix = word_vectors.vectors\n",
    "embedding_matrix = embedding_matrix.astype('float32')\n",
    "\n",
    "# See how word2id maps words to the index of their embedding vectors\n",
    "list(word2id.items())[:5]"
   ]
  },
  {
   "cell_type": "code",
   "execution_count": 29,
   "metadata": {},
   "outputs": [
    {
     "name": "stdout",
     "output_type": "stream",
     "text": [
      "Vocab Size: 17905 \n",
      "Embedding Vector Size: 300\n"
     ]
    }
   ],
   "source": [
    "vocab_size, embedding_dim = embedding_matrix.shape\n",
    "print('Vocab Size:', vocab_size, '\\nEmbedding Vector Size:', embedding_dim)"
   ]
  },
  {
   "cell_type": "code",
   "execution_count": 30,
   "metadata": {},
   "outputs": [
    {
     "name": "stdout",
     "output_type": "stream",
     "text": [
      "unk_val set to: 17905\n",
      "empty_val set to: 0\n"
     ]
    }
   ],
   "source": [
    "# Prepare Embedding Matrix for use with ML:\n",
    "embedding_matrix = process_embedding_matrix(embedding_matrix, word2id)"
   ]
  },
  {
   "cell_type": "markdown",
   "metadata": {},
   "source": [
    "#### Generate Standard and Document Embedding Representations + Train-Test Split"
   ]
  },
  {
   "cell_type": "code",
   "execution_count": 31,
   "metadata": {},
   "outputs": [],
   "source": [
    "# Index Examples can be passed directly into standard embedding models.\n",
    "# They contain the indicies of word vectors representing each word\n",
    "# in a given email, and are padded by 'empty_val' indicies\n",
    "index_examples, max_length = get_index(assigned_bugs[category], embedding_matrix, word2id)"
   ]
  },
  {
   "cell_type": "code",
   "execution_count": 32,
   "metadata": {},
   "outputs": [],
   "source": [
    "# Document Vectors Represent the entire document as a single embedding vector\n",
    "# The doc vector is the result of combining and normalizing the vectors\n",
    "# representing each word in the email\n",
    "document_vectors = generate_doc_embedding_data(index_examples, embedding_matrix)"
   ]
  },
  {
   "cell_type": "code",
   "execution_count": 33,
   "metadata": {},
   "outputs": [],
   "source": [
    "backlog_labels = pd.get_dummies(assigned_bugs['backlog_id']).astype('float32')\n",
    "std_embedding_data = pd.DataFrame(index_examples.astype('float32'))\n",
    "document_vectors = pd.DataFrame(document_vectors.astype('float32'))"
   ]
  },
  {
   "cell_type": "code",
   "execution_count": 34,
   "metadata": {},
   "outputs": [],
   "source": [
    "seed = np.random.randint(1000)\n",
    "\n",
    "std_train_features, std_test_features, train_labels, test_labels = train_test_split(std_embedding_data, backlog_labels, \n",
    "                                                                                    test_size=0.2, random_state=seed)\n",
    "doc_train_features, doc_test_features, train_labels, test_labels = train_test_split(document_vectors, backlog_labels, \n",
    "                                                                                    test_size=0.2, random_state=seed)"
   ]
  },
  {
   "cell_type": "markdown",
   "metadata": {},
   "source": [
    "#### Build and Train the Models"
   ]
  },
  {
   "cell_type": "code",
   "execution_count": 35,
   "metadata": {},
   "outputs": [],
   "source": [
    "try:\n",
    "    combined_std_emb_model\n",
    "except NameError:\n",
    "    combined_std_emb_model = None\n",
    "    \n",
    "clear_memory(combined_std_emb_model)\n",
    "combined_std_emb_model = build_embedding_model(embedding_matrix=embedding_matrix, \n",
    "                                           word2id=word2id, \n",
    "                                           max_length=max_length, \n",
    "                                           labels=train_labels, \n",
    "                                           optimizer='adam', \n",
    "                                           lr=0.001, \n",
    "                                           num_units=100)"
   ]
  },
  {
   "cell_type": "code",
   "execution_count": 36,
   "metadata": {},
   "outputs": [
    {
     "name": "stdout",
     "output_type": "stream",
     "text": [
      "Model: \"sequential\"\n",
      "_________________________________________________________________\n",
      "Layer (type)                 Output Shape              Param #   \n",
      "=================================================================\n",
      "embedding (Embedding)        (None, 295, 300)          5372100   \n",
      "_________________________________________________________________\n",
      "lstm (LSTM)                  (None, 100)               160400    \n",
      "_________________________________________________________________\n",
      "dense (Dense)                (None, 47)                4747      \n",
      "=================================================================\n",
      "Total params: 5,537,247\n",
      "Trainable params: 5,537,247\n",
      "Non-trainable params: 0\n",
      "_________________________________________________________________\n"
     ]
    }
   ],
   "source": [
    "combined_std_emb_model.summary()"
   ]
  },
  {
   "cell_type": "code",
   "execution_count": 37,
   "metadata": {},
   "outputs": [
    {
     "name": "stdout",
     "output_type": "stream",
     "text": [
      "WARNING:tensorflow:Falling back from v2 loop because of error: Failed to find data adapter that can handle input: <class 'pandas.core.frame.DataFrame'>, <class 'NoneType'>\n",
      "Train on 3912 samples, validate on 435 samples\n",
      "Epoch 1/1000\n",
      "3904/3912 [============================>.] - ETA: 0s - loss: 3.2562 - accuracy: 0.1995\n",
      "3912/3912 [==============================] - 39s 10ms/sample - loss: 3.2550 - accuracy: 0.1996 - val_loss: 3.1014 - val_accuracy: 0.2161\n",
      "Epoch 2/1000\n",
      "3912/3912 [==============================] - 39s 10ms/sample - loss: 2.7404 - accuracy: 0.2935 - val_loss: 2.7564 - val_accuracy: 0.2828\n",
      "Epoch 3/1000\n",
      "3912/3912 [==============================] - 38s 10ms/sample - loss: 2.3314 - accuracy: 0.3816 - val_loss: 2.4869 - val_accuracy: 0.3402\n",
      "Epoch 4/1000\n",
      "3912/3912 [==============================] - 38s 10ms/sample - loss: 2.0250 - accuracy: 0.4632 - val_loss: 2.3005 - val_accuracy: 0.3954\n",
      "Epoch 5/1000\n",
      "3912/3912 [==============================] - 38s 10ms/sample - loss: 1.7399 - accuracy: 0.5386 - val_loss: 2.1521 - val_accuracy: 0.4322\n",
      "Epoch 6/1000\n",
      "3912/3912 [==============================] - 38s 10ms/sample - loss: 1.5099 - accuracy: 0.5979 - val_loss: 2.0524 - val_accuracy: 0.4621\n",
      "Epoch 7/1000\n",
      "3912/3912 [==============================] - 38s 10ms/sample - loss: 1.2982 - accuracy: 0.6495 - val_loss: 2.0143 - val_accuracy: 0.4920\n",
      "Epoch 8/1000\n",
      "3912/3912 [==============================] - 38s 10ms/sample - loss: 1.1142 - accuracy: 0.7012 - val_loss: 1.9105 - val_accuracy: 0.4989\n",
      "Epoch 9/1000\n",
      "3912/3912 [==============================] - 38s 10ms/sample - loss: 0.9684 - accuracy: 0.7454 - val_loss: 1.8629 - val_accuracy: 0.5172\n",
      "Epoch 10/1000\n",
      "3912/3912 [==============================] - 38s 10ms/sample - loss: 0.8340 - accuracy: 0.7807 - val_loss: 1.8404 - val_accuracy: 0.5379\n",
      "Epoch 11/1000\n",
      "3912/3912 [==============================] - 38s 10ms/sample - loss: 0.7353 - accuracy: 0.8070 - val_loss: 1.7712 - val_accuracy: 0.5655\n",
      "Epoch 12/1000\n",
      "3912/3912 [==============================] - 38s 10ms/sample - loss: 0.6396 - accuracy: 0.8318 - val_loss: 1.8044 - val_accuracy: 0.5655\n",
      "Epoch 13/1000\n",
      "3912/3912 [==============================] - 38s 10ms/sample - loss: 0.5804 - accuracy: 0.8441 - val_loss: 1.7167 - val_accuracy: 0.5839\n",
      "Epoch 14/1000\n",
      "3912/3912 [==============================] - 38s 10ms/sample - loss: 0.5094 - accuracy: 0.8612 - val_loss: 1.7599 - val_accuracy: 0.5701\n",
      "Epoch 15/1000\n",
      "3912/3912 [==============================] - 38s 10ms/sample - loss: 0.4638 - accuracy: 0.8724 - val_loss: 1.7453 - val_accuracy: 0.5655\n",
      "Epoch 16/1000\n",
      "3912/3912 [==============================] - 38s 10ms/sample - loss: 0.4236 - accuracy: 0.8860 - val_loss: 1.8166 - val_accuracy: 0.5770\n",
      "Epoch 17/1000\n",
      "3912/3912 [==============================] - 38s 10ms/sample - loss: 0.3876 - accuracy: 0.8885 - val_loss: 1.8052 - val_accuracy: 0.5885\n",
      "Epoch 18/1000\n",
      "3912/3912 [==============================] - 38s 10ms/sample - loss: 0.3441 - accuracy: 0.9001 - val_loss: 1.8032 - val_accuracy: 0.5770\n",
      "Epoch 19/1000\n",
      "3912/3912 [==============================] - 38s 10ms/sample - loss: 0.3315 - accuracy: 0.9047 - val_loss: 1.7493 - val_accuracy: 0.6092\n",
      "Epoch 20/1000\n",
      "3912/3912 [==============================] - 38s 10ms/sample - loss: 0.3014 - accuracy: 0.9151 - val_loss: 1.8057 - val_accuracy: 0.6092\n",
      "Epoch 21/1000\n",
      "3912/3912 [==============================] - 38s 10ms/sample - loss: 0.2945 - accuracy: 0.9110 - val_loss: 1.7531 - val_accuracy: 0.6138\n",
      "Epoch 22/1000\n",
      "3912/3912 [==============================] - 38s 10ms/sample - loss: 0.2832 - accuracy: 0.9162 - val_loss: 1.8359 - val_accuracy: 0.5816\n",
      "Epoch 23/1000\n",
      "3912/3912 [==============================] - 38s 10ms/sample - loss: 0.2606 - accuracy: 0.9228 - val_loss: 1.8178 - val_accuracy: 0.6092\n",
      "Epoch 24/1000\n",
      "3912/3912 [==============================] - 38s 10ms/sample - loss: 0.2382 - accuracy: 0.9279 - val_loss: 1.8596 - val_accuracy: 0.6276\n",
      "Epoch 25/1000\n",
      "3912/3912 [==============================] - 38s 10ms/sample - loss: 0.2172 - accuracy: 0.9369 - val_loss: 1.8881 - val_accuracy: 0.6046\n",
      "Epoch 26/1000\n",
      "3912/3912 [==============================] - 39s 10ms/sample - loss: 0.2194 - accuracy: 0.9330 - val_loss: 1.8526 - val_accuracy: 0.6184\n",
      "Epoch 27/1000\n",
      "3912/3912 [==============================] - 38s 10ms/sample - loss: 0.2023 - accuracy: 0.9381 - val_loss: 1.8369 - val_accuracy: 0.6345\n",
      "Epoch 28/1000\n",
      "3912/3912 [==============================] - 39s 10ms/sample - loss: 0.1956 - accuracy: 0.9430 - val_loss: 1.8926 - val_accuracy: 0.6322\n",
      "Epoch 29/1000\n",
      "3912/3912 [==============================] - 38s 10ms/sample - loss: 0.2000 - accuracy: 0.9376 - val_loss: 1.9225 - val_accuracy: 0.6115\n",
      "Epoch 30/1000\n",
      "3912/3912 [==============================] - 38s 10ms/sample - loss: 0.1941 - accuracy: 0.9335 - val_loss: 1.9418 - val_accuracy: 0.6161\n",
      "Epoch 31/1000\n",
      "3912/3912 [==============================] - 38s 10ms/sample - loss: 0.1824 - accuracy: 0.9369 - val_loss: 1.8635 - val_accuracy: 0.6276\n",
      "Epoch 32/1000\n",
      "3912/3912 [==============================] - 38s 10ms/sample - loss: 0.1674 - accuracy: 0.9463 - val_loss: 1.9596 - val_accuracy: 0.6276\n",
      "Epoch 33/1000\n",
      "3912/3912 [==============================] - 38s 10ms/sample - loss: 0.1711 - accuracy: 0.9453 - val_loss: 1.9625 - val_accuracy: 0.6115\n",
      "Epoch 34/1000\n",
      "3912/3912 [==============================] - 38s 10ms/sample - loss: 0.1521 - accuracy: 0.9535 - val_loss: 1.9164 - val_accuracy: 0.6506\n",
      "Epoch 35/1000\n",
      "3912/3912 [==============================] - 38s 10ms/sample - loss: 0.1511 - accuracy: 0.9514 - val_loss: 1.9287 - val_accuracy: 0.6391\n",
      "Epoch 36/1000\n",
      "3912/3912 [==============================] - 38s 10ms/sample - loss: 0.1411 - accuracy: 0.9576 - val_loss: 1.9419 - val_accuracy: 0.6391\n",
      "Epoch 37/1000\n",
      "3912/3912 [==============================] - 38s 10ms/sample - loss: 0.1391 - accuracy: 0.9573 - val_loss: 1.9657 - val_accuracy: 0.6552\n",
      "Epoch 38/1000\n",
      "3912/3912 [==============================] - 38s 10ms/sample - loss: 0.1300 - accuracy: 0.9614 - val_loss: 1.9730 - val_accuracy: 0.6483\n",
      "Epoch 39/1000\n",
      "3912/3912 [==============================] - 39s 10ms/sample - loss: 0.1227 - accuracy: 0.9645 - val_loss: 1.9523 - val_accuracy: 0.6322\n",
      "Epoch 40/1000\n",
      "3912/3912 [==============================] - 38s 10ms/sample - loss: 0.1110 - accuracy: 0.9696 - val_loss: 1.9529 - val_accuracy: 0.6575\n",
      "Epoch 41/1000\n",
      "3912/3912 [==============================] - 38s 10ms/sample - loss: 0.1068 - accuracy: 0.9744 - val_loss: 2.0121 - val_accuracy: 0.6368\n",
      "Epoch 42/1000\n",
      "3912/3912 [==============================] - 38s 10ms/sample - loss: 0.1075 - accuracy: 0.9726 - val_loss: 1.9268 - val_accuracy: 0.6345\n",
      "Epoch 43/1000\n",
      "3912/3912 [==============================] - 39s 10ms/sample - loss: 0.1055 - accuracy: 0.9729 - val_loss: 2.0065 - val_accuracy: 0.6437\n",
      "Epoch 44/1000\n",
      "3912/3912 [==============================] - 39s 10ms/sample - loss: 0.1112 - accuracy: 0.9729 - val_loss: 2.0091 - val_accuracy: 0.6345\n",
      "Epoch 45/1000\n",
      "3912/3912 [==============================] - 38s 10ms/sample - loss: 0.0981 - accuracy: 0.9757 - val_loss: 1.9889 - val_accuracy: 0.6552\n",
      "Epoch 46/1000\n",
      "3912/3912 [==============================] - 38s 10ms/sample - loss: 0.0874 - accuracy: 0.9783 - val_loss: 1.9808 - val_accuracy: 0.6506\n",
      "Epoch 47/1000\n",
      "3912/3912 [==============================] - 38s 10ms/sample - loss: 0.0841 - accuracy: 0.9770 - val_loss: 2.0081 - val_accuracy: 0.6299\n",
      "Epoch 48/1000\n",
      "3912/3912 [==============================] - 38s 10ms/sample - loss: 0.0736 - accuracy: 0.9801 - val_loss: 1.9682 - val_accuracy: 0.6460\n",
      "Epoch 49/1000\n",
      "3912/3912 [==============================] - 38s 10ms/sample - loss: 0.0760 - accuracy: 0.9783 - val_loss: 2.0149 - val_accuracy: 0.6391\n",
      "Epoch 50/1000\n",
      "3912/3912 [==============================] - 38s 10ms/sample - loss: 0.0773 - accuracy: 0.9783 - val_loss: 2.0097 - val_accuracy: 0.6483\n",
      "Epoch 51/1000\n",
      "3912/3912 [==============================] - 38s 10ms/sample - loss: 0.0705 - accuracy: 0.9801 - val_loss: 1.9930 - val_accuracy: 0.6598\n",
      "Epoch 52/1000\n",
      "3912/3912 [==============================] - 38s 10ms/sample - loss: 0.0686 - accuracy: 0.9796 - val_loss: 2.0005 - val_accuracy: 0.6598\n",
      "Epoch 53/1000\n",
      "3912/3912 [==============================] - 38s 10ms/sample - loss: 0.0683 - accuracy: 0.9798 - val_loss: 2.0753 - val_accuracy: 0.6506\n",
      "Epoch 54/1000\n",
      "3912/3912 [==============================] - 38s 10ms/sample - loss: 0.0628 - accuracy: 0.9813 - val_loss: 2.0942 - val_accuracy: 0.6575\n",
      "Epoch 55/1000\n",
      "3912/3912 [==============================] - 38s 10ms/sample - loss: 0.0621 - accuracy: 0.9816 - val_loss: 2.0953 - val_accuracy: 0.6391\n",
      "Epoch 56/1000\n",
      "3912/3912 [==============================] - 38s 10ms/sample - loss: 0.0602 - accuracy: 0.9803 - val_loss: 2.0621 - val_accuracy: 0.6322\n",
      "Epoch 57/1000\n",
      "3912/3912 [==============================] - 38s 10ms/sample - loss: 0.0585 - accuracy: 0.9829 - val_loss: 2.1005 - val_accuracy: 0.6529\n",
      "Epoch 58/1000\n",
      "3912/3912 [==============================] - 38s 10ms/sample - loss: 0.0571 - accuracy: 0.9813 - val_loss: 2.0821 - val_accuracy: 0.6506\n",
      "Epoch 59/1000\n",
      "3912/3912 [==============================] - 38s 10ms/sample - loss: 0.0534 - accuracy: 0.9834 - val_loss: 2.1520 - val_accuracy: 0.6529\n",
      "Epoch 60/1000\n",
      "3912/3912 [==============================] - 38s 10ms/sample - loss: 0.0535 - accuracy: 0.9831 - val_loss: 2.1838 - val_accuracy: 0.6506\n",
      "Epoch 63/1000\n",
      "3912/3912 [==============================] - 38s 10ms/sample - loss: 0.0488 - accuracy: 0.9836 - val_loss: 2.1400 - val_accuracy: 0.6529\n",
      "Epoch 64/1000\n",
      "3912/3912 [==============================] - 38s 10ms/sample - loss: 0.0482 - accuracy: 0.9831 - val_loss: 2.1263 - val_accuracy: 0.6506\n",
      "Epoch 65/1000\n",
      "3912/3912 [==============================] - 38s 10ms/sample - loss: 0.0481 - accuracy: 0.9824 - val_loss: 2.1866 - val_accuracy: 0.6506\n",
      "Epoch 66/1000\n",
      "3912/3912 [==============================] - 38s 10ms/sample - loss: 0.0477 - accuracy: 0.9849 - val_loss: 2.2096 - val_accuracy: 0.6345\n",
      "Epoch 67/1000\n",
      "3912/3912 [==============================] - 38s 10ms/sample - loss: 0.0493 - accuracy: 0.9842 - val_loss: 2.1971 - val_accuracy: 0.6529\n",
      "Epoch 68/1000\n",
      "3912/3912 [==============================] - 38s 10ms/sample - loss: 0.0460 - accuracy: 0.9859 - val_loss: 2.2220 - val_accuracy: 0.6437\n",
      "Epoch 69/1000\n",
      "3912/3912 [==============================] - 38s 10ms/sample - loss: 0.0450 - accuracy: 0.9852 - val_loss: 2.2082 - val_accuracy: 0.6575\n",
      "Epoch 70/1000\n",
      "3912/3912 [==============================] - 38s 10ms/sample - loss: 0.0432 - accuracy: 0.9852 - val_loss: 2.2555 - val_accuracy: 0.6529\n",
      "Epoch 71/1000\n",
      "3912/3912 [==============================] - 38s 10ms/sample - loss: 0.0458 - accuracy: 0.9831 - val_loss: 2.2358 - val_accuracy: 0.6483\n"
     ]
    }
   ],
   "source": [
    "## Define Params for this model:\n",
    "early_stop = keras.callbacks.EarlyStopping(monitor='val_accuracy', restore_best_weights=True, patience=20)\n",
    "combined_std_emb_history = combined_std_emb_model.fit(std_train_features, \n",
    "                                              train_labels,\n",
    "                                              epochs=1000, \n",
    "                                              validation_split = 0.1, \n",
    "                                              callbacks=[early_stop, PrintDot()],\n",
    "                                              verbose=1)"
   ]
  },
  {
   "cell_type": "code",
   "execution_count": 38,
   "metadata": {},
   "outputs": [
    {
     "data": {
      "text/plain": [
       "<Figure size 432x288 with 0 Axes>"
      ]
     },
     "metadata": {},
     "output_type": "display_data"
    },
    {
     "data": {
      "image/png": "[encoded data removed]",
      "text/plain": [
       "<Figure size 432x288 with 1 Axes>"
      ]
     },
     "metadata": {
      "needs_background": "light"
     },
     "output_type": "display_data"
    }
   ],
   "source": [
    "plot_history(combined_std_emb_history, \"Accuracy: Standard Embedding with Combined Corpus (Pega + Brown) W2V + LSTM Model\")"
   ]
  },
  {
   "cell_type": "code",
   "execution_count": 39,
   "metadata": {},
   "outputs": [],
   "source": [
    "clear_memory(combined_std_emb_model)"
   ]
  },
  {
   "cell_type": "code",
   "execution_count": 40,
   "metadata": {},
   "outputs": [],
   "source": [
    "try:\n",
    "    combined_doc_emb_model\n",
    "except NameError:\n",
    "    combined_doc_emb_model = None\n",
    "    \n",
    "clear_memory(combined_doc_emb_model)\n",
    "combined_doc_emb_model = build_doc_model(features = doc_train_features, \n",
    "                                     labels = train_labels, \n",
    "                                     optimizer = 'adam',\n",
    "                                     activations =['tanh', 'tanh'],\n",
    "                                     lr = 0.0001, \n",
    "                                     drop_rate=0.3,\n",
    "                                     layer1_size = 200,\n",
    "                                     layer2_size= 100, \n",
    "                                     layer3_size= None,\n",
    "                                     layer4_size= None)"
   ]
  },
  {
   "cell_type": "code",
   "execution_count": 41,
   "metadata": {},
   "outputs": [
    {
     "name": "stdout",
     "output_type": "stream",
     "text": [
      "Model: \"sequential\"\n",
      "_________________________________________________________________\n",
      "Layer (type)                 Output Shape              Param #   \n",
      "=================================================================\n",
      "dense (Dense)                (None, 200)               60200     \n",
      "_________________________________________________________________\n",
      "dropout (Dropout)            (None, 200)               0         \n",
      "_________________________________________________________________\n",
      "dense_1 (Dense)              (None, 100)               20100     \n",
      "_________________________________________________________________\n",
      "dropout_1 (Dropout)          (None, 100)               0         \n",
      "_________________________________________________________________\n",
      "softmax_output (Dense)       (None, 47)                4747      \n",
      "=================================================================\n",
      "Total params: 85,047\n",
      "Trainable params: 85,047\n",
      "Non-trainable params: 0\n",
      "_________________________________________________________________\n"
     ]
    }
   ],
   "source": [
    "combined_doc_emb_model.summary()"
   ]
  },
  {
   "cell_type": "code",
   "execution_count": 42,
   "metadata": {},
   "outputs": [
    {
     "name": "stdout",
     "output_type": "stream",
     "text": [
      "WARNING:tensorflow:Falling back from v2 loop because of error: Failed to find data adapter that can handle input: <class 'pandas.core.frame.DataFrame'>, <class 'NoneType'>\n",
      "\n",
      "....................................................................................................\n",
      "....................................................................................................\n",
      "................................................................."
     ]
    }
   ],
   "source": [
    "early_stop = keras.callbacks.EarlyStopping(monitor='val_accuracy', restore_best_weights=True, patience=15)\n",
    "combined_doc_emb_history = combined_doc_emb_model.fit(doc_train_features, \n",
    "                                 train_labels, \n",
    "                                 epochs=1000, \n",
    "                                 validation_split = 0.2, \n",
    "                                 callbacks=[early_stop, PrintDot()],\n",
    "                                 verbose=0)"
   ]
  },
  {
   "cell_type": "code",
   "execution_count": 43,
   "metadata": {},
   "outputs": [
    {
     "data": {
      "text/plain": [
       "<Figure size 432x288 with 0 Axes>"
      ]
     },
     "metadata": {},
     "output_type": "display_data"
    },
    {
     "data": {
      "image/png": "[encoded data removed]",
      "text/plain": [
       "<Figure size 432x288 with 1 Axes>"
      ]
     },
     "metadata": {
      "needs_background": "light"
     },
     "output_type": "display_data"
    }
   ],
   "source": [
    "plot_history(combined_doc_emb_history, \"Accuracy: Doc Embedding with Combined W2V + Dense Model\")"
   ]
  },
  {
   "cell_type": "code",
   "execution_count": 44,
   "metadata": {},
   "outputs": [],
   "source": [
    "clear_memory(pega_doc_emb_history)"
   ]
  },
  {
   "cell_type": "markdown",
   "metadata": {},
   "source": [
    "### 3. Google Hub Model\n",
    "Note that the google hub model takes plain text as input and handles the tokenization steps itself."
   ]
  },
  {
   "cell_type": "code",
   "execution_count": 45,
   "metadata": {},
   "outputs": [],
   "source": [
    "# Using Keras Sequential model for regression analyses\n",
    "def build_hub_model(embedding_model_url, labels, optimizer, lr, drop_rate, num_units):\n",
    "    \n",
    "    hub_layer = hub.KerasLayer(embedding_model_url, input_shape=[], \n",
    "                           dtype=tf.string)\n",
    "    \n",
    "    model = Sequential()\n",
    "    \n",
    "    model.add(hub_layer)\n",
    "    model.add(Dropout(drop_rate))\n",
    "    model.add(Dense(num_units, activation='relu'))\n",
    "    model.add(Dropout(drop_rate))\n",
    "    model.add(Dense(len(labels.keys()), activation='softmax'))\n",
    "\n",
    "    # Parameters\n",
    "    if optimizer == 'adam':\n",
    "        optimizer = tf.keras.optimizers.Adam(lr)\n",
    "        \n",
    "    elif optimizer == 'rmsprop':\n",
    "        optimizer = tf.keras.optimizers.RMSprop(lr)\n",
    "        \n",
    "    else:\n",
    "        print(\"ERROR: No optimizer passed\")\n",
    "        return None\n",
    "\n",
    "    model.compile(loss='kullback_leibler_divergence',\n",
    "                    optimizer=optimizer,\n",
    "                    metrics=['accuracy'])\n",
    "    \n",
    "    return model"
   ]
  },
  {
   "cell_type": "code",
   "execution_count": 46,
   "metadata": {},
   "outputs": [],
   "source": [
    "bytes_literal_text = assigned_bugs[category].astype('|S')"
   ]
  },
  {
   "cell_type": "code",
   "execution_count": 47,
   "metadata": {},
   "outputs": [],
   "source": [
    "train_features, test_features, train_labels, test_labels = train_test_split(bytes_literal_text, backlog_labels, test_size=0.2)"
   ]
  },
  {
   "cell_type": "code",
   "execution_count": 48,
   "metadata": {},
   "outputs": [
    {
     "name": "stderr",
     "output_type": "stream",
     "text": [
      "INFO:absl:Using /tmp/tfhub_modules to cache modules.\n"
     ]
    }
   ],
   "source": [
    "try:\n",
    "    hub_model\n",
    "except NameError:\n",
    "    hub_model = None\n",
    "    \n",
    "clear_memory(hub_model)\n",
    "\n",
    "hub_model = build_hub_model(embedding_model_url=\"https://tfhub.dev/google/universal-sentence-encoder/4\",\n",
    "                            labels=train_labels,\n",
    "                            optimizer='adam',\n",
    "                            lr=0.0001,\n",
    "                            drop_rate=0.3,\n",
    "                            num_units=256)"
   ]
  },
  {
   "cell_type": "code",
   "execution_count": 49,
   "metadata": {},
   "outputs": [
    {
     "name": "stdout",
     "output_type": "stream",
     "text": [
      "Model: \"sequential\"\n",
      "_________________________________________________________________\n",
      "Layer (type)                 Output Shape              Param #   \n",
      "=================================================================\n",
      "keras_layer (KerasLayer)     (None, 512)               256797824 \n",
      "_________________________________________________________________\n",
      "dropout (Dropout)            (None, 512)               0         \n",
      "_________________________________________________________________\n",
      "dense (Dense)                (None, 256)               131328    \n",
      "_________________________________________________________________\n",
      "dropout_1 (Dropout)          (None, 256)               0         \n",
      "_________________________________________________________________\n",
      "dense_1 (Dense)              (None, 47)                12079     \n",
      "=================================================================\n",
      "Total params: 256,941,231\n",
      "Trainable params: 143,407\n",
      "Non-trainable params: 256,797,824\n",
      "_________________________________________________________________\n"
     ]
    }
   ],
   "source": [
    "hub_model.summary()"
   ]
  },
  {
   "cell_type": "code",
   "execution_count": 50,
   "metadata": {},
   "outputs": [
    {
     "name": "stdout",
     "output_type": "stream",
     "text": [
      "\n",
      "....................................................................................................\n",
      "................."
     ]
    }
   ],
   "source": [
    "early_stop = keras.callbacks.EarlyStopping(monitor='val_accuracy', patience=20)\n",
    "hub_history = hub_model.fit(train_features.to_numpy(), \n",
    "                            train_labels.to_numpy(), \n",
    "                            epochs=1000,\n",
    "                            validation_split = 0.2, \n",
    "                            callbacks = [early_stop, PrintDot()],\n",
    "                            verbose=0)"
   ]
  },
  {
   "cell_type": "code",
   "execution_count": 51,
   "metadata": {},
   "outputs": [
    {
     "data": {
      "text/plain": [
       "<Figure size 432x288 with 0 Axes>"
      ]
     },
     "metadata": {},
     "output_type": "display_data"
    },
    {
     "data": {
      "image/png": "[encoded data removed]",
      "text/plain": [
       "<Figure size 432x288 with 1 Axes>"
      ]
     },
     "metadata": {
      "needs_background": "light"
     },
     "output_type": "display_data"
    }
   ],
   "source": [
    "plot_history(hub_history, \"Accuracy: Hub Doc Embedding + Dense Model\")"
   ]
  }
 ],
 "metadata": {
  "kernelspec": {
   "display_name": "Python (nlp-workspace)",
   "language": "python",
   "name": "nlp-workspace"
  },
  "language_info": {
   "codemirror_mode": {
    "name": "ipython",
    "version": 3
   },
   "file_extension": ".py",
   "mimetype": "text/x-python",
   "name": "python",
   "nbconvert_exporter": "python",
   "pygments_lexer": "ipython3",
   "version": "3.7.6"
  }
 },
 "nbformat": 4,
 "nbformat_minor": 4
}
