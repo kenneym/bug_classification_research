{
 "cells": [
  {
   "cell_type": "markdown",
   "metadata": {},
   "source": [
    "# Embedding Corpus Builder:\n",
    "The code in this notebook pulls text from the pega website and from agile studio epics to create a corpus of pega-related text. Once we've defined our corpus, we train a word2vec model on that corpus to understand the specialized language that surrounds pega technology.\n",
    "\n",
    "Further, by combining a standard English corpus (The Brown Corpus) with the Pega Corpus we created, we train another W2V model to understand relationships between words in pega-specific language as well as relationships that apply accross the english language.\n",
    "\n",
    "---\n",
    "## Corpus 1: Pega Crawler\n",
    "Purpose: Crawl Pega link with single layer recursion and pull relevant text to establish a Pega corpus of words."
   ]
  },
  {
   "cell_type": "markdown",
   "metadata": {},
   "source": [
    "*Authors: Jake Epstein & Matt Kenney*"
   ]
  },
  {
   "cell_type": "markdown",
   "metadata": {},
   "source": [
    "#### Import Libraries:"
   ]
  },
  {
   "cell_type": "code",
   "execution_count": 1,
   "metadata": {},
   "outputs": [],
   "source": [
    "#!bash ../nlp_workspace/install_packages.sh"
   ]
  },
  {
   "cell_type": "code",
   "execution_count": 2,
   "metadata": {},
   "outputs": [],
   "source": [
    "# import libraries\n",
    "import multiprocessing\n",
    "import re\n",
    "from gensim.models import Word2Vec\n",
    "import contractions\n",
    "import re\n",
    "import string\n",
    "import pickle\n",
    "from tqdm import tqdm\n",
    "import time\n",
    "\n",
    "import pandas as pd\n",
    "import numpy as np"
   ]
  },
  {
   "cell_type": "code",
   "execution_count": 3,
   "metadata": {},
   "outputs": [
    {
     "name": "stdout",
     "output_type": "stream",
     "text": [
      "Spacy model is using GPU\n"
     ]
    }
   ],
   "source": [
    "import sys\n",
    "sys.path.insert(1, '../nlp_engine')\n",
    "from Preprocessing import preprocess_training_text, text_to_corpus"
   ]
  },
  {
   "cell_type": "markdown",
   "metadata": {},
   "source": [
    "#### Define Preprocessing Functions\n"
   ]
  },
  {
   "cell_type": "markdown",
   "metadata": {},
   "source": [
    "#### Crawl a specified URL, and pull all english text to define our corpus"
   ]
  },
  {
   "cell_type": "code",
   "execution_count": 4,
   "metadata": {
    "scrolled": true
   },
   "outputs": [],
   "source": [
    "import urllib3\n",
    "from urllib.parse import urlparse\n",
    "from urllib.parse import urljoin\n",
    "from langdetect import detect\n",
    "import requests\n",
    "from bs4 import BeautifulSoup\n",
    "from validator_collection import validators, checkers\n",
    "\n",
    "def crawl_webpage(url):\n",
    "    \"\"\"\n",
    "    Crawls all webpages at a recursion depth of 1 page from the passed url. Pulls\n",
    "    all paragraphs from the crawled webpages and returns them as a list of paragraphs.\n",
    "    Ignores webpages that were not written in english\n",
    "    \"\"\"\n",
    "\n",
    "    # request data from url and parse html\n",
    "    response = requests.get(url)\n",
    "    soup = BeautifulSoup(response.content, \"html.parser\")\n",
    "    # make a list of all of the embedded links in the page\n",
    "    href_tags = soup.find_all(href=True)\n",
    "    hrefs = [tag.get('href') for tag in href_tags]\n",
    "    para = ''\n",
    "    strpara = ''\n",
    "    count = 0\n",
    "    paragraph_list = []\n",
    "    # loop through embedded links\n",
    "    \n",
    "    for href in hrefs:\n",
    "        # if the link is an extension, join it with the base link to form url\n",
    "        o = urlparse(href)\n",
    "        \n",
    "        if o.scheme != 'http' and o.scheme != 'https':\n",
    "            href = urljoin('https://www.pega.com', href)\n",
    "        # check if link is valid and parse its html\n",
    "        \n",
    "        if checkers.is_url(href):\n",
    "            response = requests.get(href)\n",
    "            soup = BeautifulSoup(response.content, \"html.parser\")\n",
    "            # check if the body is non-null\n",
    "            \n",
    "            if soup.body != None:\n",
    "                # check if the language of the body is english\n",
    "                lang = detect(soup.body.get_text())\n",
    "                # print(lang)\n",
    "                \n",
    "                if lang == 'en':\n",
    "                    print(href)\n",
    "                    # pull all relevant expressions and add periods at the end\n",
    "                    paras = soup.find_all('p')\n",
    "                    paragraph_list.extend(paras)\n",
    "                    count += 1\n",
    "                    \n",
    "    print('Number of Links Crawled', count)\n",
    "    return paragraph_list"
   ]
  },
  {
   "cell_type": "code",
   "execution_count": 5,
   "metadata": {
    "scrolled": true
   },
   "outputs": [
    {
     "name": "stdout",
     "output_type": "stream",
     "text": [
      "https://www.pega.com/glossary\n",
      "https://www.pega.com/glossary\n",
      "https://www.pega.com/node/66696\n",
      "https://www.pega.com/glossary\n"
     ]
    },
    {
     "name": "stderr",
     "output_type": "stream",
     "text": [
      "Some characters could not be decoded, and were replaced with REPLACEMENT CHARACTER.\n",
      "Some characters could not be decoded, and were replaced with REPLACEMENT CHARACTER.\n",
      "Some characters could not be decoded, and were replaced with REPLACEMENT CHARACTER.\n"
     ]
    },
    {
     "name": "stdout",
     "output_type": "stream",
     "text": [
      "https://academy.pega.com\n",
      "https://community.pega.com/support\n",
      "https://community.pega.com/knowledgebase\n",
      "https://www.pega.com/events/pegaworld\n",
      "https://design.pega.com/\n",
      "https://www.pega.com/services/partnerships\n",
      "https://www.pega.com/services/consulting\n",
      "https://www.pega.com/insights\n",
      "https://www.pega.com/about/careers\n",
      "https://www.pega.com/glossary\n",
      "https://www.pega.com\n",
      "https://www.pega.com/contact-us\n",
      "https://www.pega.com/user/register?destination=/glossary\n",
      "https://www.pega.com/user/login?destination=/glossary\n",
      "https://www.pega.com/\n",
      "https://www.pega.com/\n",
      "https://www.pega.com/contact-us\n",
      "https://www.pega.com/user/register?destination=/glossary\n",
      "https://www.pega.com/user/login?destination=/glossary\n",
      "https://www.pega.com/products\n",
      "https://www.pega.com/products/crm-applications\n",
      "https://www.pega.com/products/crm-applications/marketing\n",
      "https://www.pega.com/products/crm-applications/sales-automation\n",
      "https://www.pega.com/products/crm-applications/customer-service\n",
      "https://www.pega.com/products/pega-platform/decision-hub\n",
      "https://www.pega.com/products/pega-platform\n",
      "https://www.pega.com/industries/financial-services/onboarding\n",
      "https://www.pega.com/industries\n",
      "https://www.pega.com/products/pega-platform\n",
      "https://www.pega.com/products/pega-platform/decision-hub\n",
      "https://www.pega.com/products/pega-platform/case-management\n",
      "https://www.pega.com/products/pega-platform/intelligent-virtual-assistant\n",
      "https://www.pega.com/products/cloud\n",
      "https://www.pega.com/products/pega-platform/devops-testing\n",
      "https://www.pega.com/products/pega-platform/app-development\n",
      "https://www.pega.com/products/pega-platform/robotic-automation\n",
      "https://www.pega.com/products/pega-platform/robotic-automation/workforce-intelligence\n",
      "https://www.pega.com/products/try-now\n",
      "https://www.pega.com/products/explore\n",
      "https://www.pega.com/technology/whiteboard-videos\n",
      "https://www.pega.com/products/try-now\n",
      "https://www.pega.com/platform-trial\n",
      "https://www.pega.com/customer-service-trial\n",
      "https://www.pega.com/sales-automation-trial\n",
      "https://www.pega.com/products\n",
      "https://www.pega.com/industries/financial-services\n",
      "https://www.pega.com/industries/insurance\n",
      "https://www.pega.com/industries/healthcare\n",
      "https://www.pega.com/industries/communications\n",
      "https://www.pega.com/industries/government\n",
      "https://www.pega.com/industries/manufacturing\n",
      "https://www.pega.com/industries/manufacturing/automotive\n",
      "https://www.pega.com/industries/energy\n",
      "https://www.pega.com/industries/media-and-entertainment\n",
      "https://www.pega.com/industries\n",
      "https://www.pega.com/solutions/customer-lifetime-value\n",
      "https://www.pega.com/challenges/customer-service\n",
      "https://www.pega.com/solutions/intelligent-automation\n",
      "https://www.pega.com/business-challenges-tech-trends\n",
      "https://www.pega.com/low-code-solutions\n",
      "https://www.pega.com/customers?f%5B0%5D=customers_industry%3A1656#search-results\n",
      "https://www.pega.com/customers?f%5B0%5D=customers_industry%3A1676#search-results\n",
      "https://www.pega.com/customers?f%5B0%5D=customers_industry%3A1671#search-results\n",
      "https://www.pega.com/customers?f%5B0%5D=customers_industry%3A1681#search-results\n",
      "https://www.pega.com/customers?f%5B0%5D=customers_industry%3A1666#search-results\n",
      "https://www.pega.com/customers?f%5B0%5D=customers_industry%3A1661#search-results\n",
      "https://www.pega.com/customers?f%5B0%5D=customers_industry%3A1691#search-results\n",
      "https://www.pega.com/customers\n",
      "https://www.pega.com/customers?f%5B0%5D=customers_solution%3A10216&f%5B1%5D=customers_solution%3A10261#p-fedf18fc-dc32-41d8-9fd1-dda4d6bdf47d\n",
      "https://www.pega.com/customers?f%5B0%5D=customers_solution%3A10251&f%5B1%5D=customers_solution%3A10231#p-fedf18fc-dc32-41d8-9fd1-dda4d6bdf47d\n",
      "https://www.pega.com/customers?f%5B0%5D=customers_solution%3A10246&f%5B1%5D=customers_solution%3A10241&f%5B2%5D=customers_solution%3A10256#p-fedf18fc-dc32-41d8-9fd1-dda4d6bdf47d\n",
      "https://www.pega.com/customers\n",
      "https://www.pega.com/customers/cba-marketing\n",
      "https://www.pega.com/technology/vision-and-technology\n",
      "https://www.pega.com/technology/real-time-intelligence\n",
      "https://www.pega.com/topics/robotic-automation\n",
      "https://www.pega.com/technology/rapid-delivery\n",
      "https://www.pega.com/technology/scalable-software\n",
      "https://www.pega.com/technology/low-code\n",
      "https://www.pega.com/technology/cloud-choice\n",
      "https://www.pega.com/gartner-crm-cec-2019\n",
      "https://www.pega.com/gartner-ibpms-2019\n",
      "https://www.pega.com/gartner-rpa-2019\n",
      "https://www.pega.com/digital-process-automation-forrester-2019\n",
      "https://www.pega.com/forrester-rtim-2019\n",
      "https://www.pega.com/insights/analyst-reports\n",
      "https://www.pega.com/topics/digital-transformation\n",
      "https://www.pega.com/topics/artificial-intelligence\n",
      "https://www.pega.com/topics/customer-engagement\n",
      "https://www.pega.com/topics/robotic-automation\n",
      "https://www.pega.com/insights\n",
      "https://community.pega.com/success-stories\n",
      "https://collaborate.pega.com\n",
      "https://community.pega.com/knowledgebase\n",
      "https://academy.pega.com\n",
      "https://www.pega.com/technology/salesforce-alternative\n",
      "https://www.pega.com/services/partnerships\n",
      "https://www.pega.com/services/partnerships\n",
      "https://www.pega.com/services/partnerships/search\n",
      "https://www.pega.com/ventures\n",
      "https://www.pega.com/services/partnerships/isv-program\n",
      "https://community.pega.com/marketplace\n",
      "https://www.pega.com/services/consulting\n",
      "https://www.pega.com/services/consulting/centers-of-excellence\n",
      "https://www.pega.com/services/consulting\n",
      "https://academy.pega.com/\n",
      "https://academy.pega.com/authorized-training-partners\n",
      "https://academy.pega.com\n",
      "https://academy.pega.com/certifications\n",
      "https://academy.pega.com/search\n",
      "https://community.pega.com/training/university-academic-program\n",
      "https://www.pega.com/about/locations/japan/training\n",
      "https://community.pega.com/\n",
      "https://community.pega.com/\n",
      "https://community.pega.com/knowledgebase\n",
      "https://community1.pega.com/community/pega-support\n",
      "https://community.pega.com/support\n",
      "https://www.pega.com/services\n",
      "https://www.pega.com/events/pegaworld\n",
      "https://www.pega.com/events/pegaworld\n",
      "https://www.pega.com/events/pegaworld/agenda\n",
      "https://www.pega.com/events/pegaworld/replays\n",
      "https://www.pega.com/events\n",
      "https://www.pega.com/events/pega-japan-regular-session\n",
      "https://www.pega.com/events/customer-engagement\n",
      "https://www.pega.com/events/customer-engagement/london\n",
      "https://www.pega.com/events/customer-engagement/amsterdam\n",
      "https://www.pega.com/events/customer-engagement/stockholm\n",
      "https://www.pega.com/events?field_event_category_tid=7786&f%5B0%5D=agg_evreg_type%3AWebinar#search-results\n",
      "https://www.pega.com/events/pegaworld\n",
      "https://www.pega.com/events\n",
      "https://www.pega.com/about\n",
      "https://www.pega.com/about/locations/japan\n",
      "https://www.pega.com/about\n",
      "https://www.pega.com/about/investors\n",
      "https://www.pega.com/about/leadership\n",
      "https://www.pega.com/trust\n",
      "https://www.pega.com/contact-us\n",
      "https://www.pega.com/about/news\n",
      "https://www.pega.com/about/news/press-releases\n",
      "https://www.pega.com/about/news/media-coverage\n",
      "https://www.pega.com/about/company/awards\n",
      "https://www.pega.com/insights/analyst-reports\n",
      "https://www.pega.com/about/careers\n",
      "https://www.pega.com/about/careers\n",
      "https://www.pega.com/about/careers/job-listings\n",
      "https://www.pega.com/about/careers/benefits-and-culture\n",
      "https://www.pega.com/about/careers/pega-sales-careers\n",
      "https://www.pega.com/about/careers/pega-india\n",
      "https://www.pega.com/about/careers/pega-poland\n",
      "https://www.pega.com/\n",
      "https://academy.pega.com\n",
      "https://community.pega.com/support\n",
      "https://community.pega.com/knowledgebase\n",
      "https://www.pega.com/events/pegaworld\n",
      "https://design.pega.com/\n",
      "https://www.pega.com/services/partnerships\n",
      "https://www.pega.com/services/consulting\n",
      "https://www.pega.com/insights\n",
      "https://www.pega.com/about/careers\n",
      "https://www.pega.com/glossary\n",
      "https://www.pega.com\n",
      "https://www.pega.com/products/try-now\n",
      "https://www.pega.com/products/try-now\n",
      "https://www.pega.com/adaptive-case-management\n",
      "https://www.pega.com/banking-business-process\n",
      "https://www.pega.com/banking-crm\n",
      "https://www.pega.com/banking-operations\n",
      "https://www.pega.com/bpm\n",
      "https://www.pega.com/bpm-methodology\n",
      "https://www.pega.com/bpm-platform\n",
      "https://www.pega.com/bpm-suite\n",
      "https://www.pega.com/bpo-software\n",
      "https://www.pega.com/business-performance-management\n",
      "https://www.pega.com/business-process\n",
      "https://www.pega.com/business-process-integration\n",
      "https://www.pega.com/business-process-management-system\n",
      "https://www.pega.com/business-process-mapping\n",
      "https://www.pega.com/business-process-modeling\n",
      "https://www.pega.com/business-process-outsourcing\n",
      "https://www.pega.com/business-rules\n",
      "https://www.pega.com/business-rules-engine\n",
      "https://www.pega.com/business-transformation\n",
      "https://www.pega.com/business-workflow\n",
      "https://www.pega.com/call-center-crm\n",
      "https://www.pega.com/call-center-software\n",
      "https://www.pega.com/case-management\n",
      "https://www.pega.com/change-management-process\n",
      "https://www.pega.com/churn-management\n",
      "https://www.pega.com/claims-management-software\n",
      "https://www.pega.com/claims-processing-software\n",
      "https://www.pega.com/commercial-lending-software\n",
      "https://www.pega.com/compliance-management-software\n",
      "https://www.pega.com/contact-center-solutions\n",
      "https://www.pega.com/crm-enterprise-software\n",
      "https://www.pega.com/cross-channel-marketing\n",
      "https://www.pega.com/customer-analytics\n",
      "https://www.pega.com/customer-churn\n",
      "https://www.pega.com/customer-engagement\n",
      "https://www.pega.com/customer-engagement-platform\n",
      "https://www.pega.com/customer-experience-analytics\n",
      "https://www.pega.com/customer-experience-management\n",
      "https://www.pega.com/customer-lifecycle-management\n",
      "https://www.pega.com/customer-lifetime-value\n",
      "https://www.pega.com/customer-management\n",
      "https://www.pega.com/customer-onboarding\n",
      "https://www.pega.com/customer-onboarding-process\n",
      "https://www.pega.com/customer-onboarding-software\n",
      "https://www.pega.com/customer-retention\n",
      "https://www.pega.com/customer-retention-management\n",
      "https://www.pega.com/customer-success-software\n",
      "https://www.pega.com/customer-support-platform\n",
      "https://www.pega.com/digital-enterprise\n",
      "https://www.pega.com/enterprise-application-integration\n",
      "https://www.pega.com/enterprise-applications\n",
      "https://www.pega.com/enterprise-work-management\n",
      "https://www.pega.com/healthcare-management-technology\n",
      "https://www.pega.com/healthcare-software-solutions\n",
      "https://www.pega.com/healthcare-software-systems\n",
      "https://www.pega.com/health-information-systems\n",
      "https://www.pega.com/health-management-system\n",
      "https://www.pega.com/insurance-administration-software\n",
      "https://www.pega.com/insurance-policy-management-software\n",
      "https://www.pega.com/insurance-product-configurator\n",
      "https://www.pega.com/insurance-software\n",
      "https://www.pega.com/insurance-underwriting-software\n",
      "https://www.pega.com/investment-banking-crm\n",
      "https://www.pega.com/life-insurance-software\n",
      "https://www.pega.com/marketing-analytics\n",
      "https://www.pega.com/medical-management-software\n",
      "https://www.pega.com/omni-channel-marketing\n",
      "https://www.pega.com/order-fulfillment\n",
      "https://www.pega.com/order-management\n",
      "https://www.pega.com/p-and-c-insurance-software\n",
      "https://www.pega.com/personalized-marketing\n",
      "https://www.pega.com/policy-administration-systems\n",
      "https://www.pega.com/predictive-analytics\n",
      "https://www.pega.com/predictive-analytics-for-insurance\n",
      "https://www.pega.com/predictive-analytics-in-banking\n",
      "https://www.pega.com/predictive-marketing\n",
      "https://www.pega.com/predictive-modeling\n",
      "https://www.pega.com/real-time-marketing\n",
      "https://www.pega.com/retail-banking-operations\n",
      "https://www.pega.com/retail-banking-solutions\n",
      "https://www.pega.com/risk-management-software\n",
      "https://www.pega.com/rpa\n",
      "https://www.pega.com/software-application-development\n",
      "https://www.pega.com/telecom-order-management\n",
      "https://www.pega.com/underwriting-software\n",
      "https://www.pega.com/web-self-service\n",
      "https://www.pega.com/workflow-management\n",
      "https://www.facebook.com/sharer/sharer.php?u=https://www.pega.com/glossary&src=sdkpreparse\n",
      "https://twitter.com/intent/tweet?url=https://www.pega.com/glossary&text=Pega%20Glossary&via=pega\n",
      "https://www.linkedin.com/shareArticle?url=https://www.pega.com/glossary&title=Pega%20Glossary\n",
      "https://twitter.com/pega\n",
      "https://www.facebook.com/pegasystems\n",
      "https://www.youtube.com/user/Pegasystems\n",
      "https://www.pega.com/about\n",
      "https://www.pega.com/about/office-locations\n",
      "https://www.pega.com/about/careers\n",
      "https://www.pega.com/contact-us\n",
      "https://community.pega.com/\n",
      "https://community.pega.com/support\n",
      "https://academy.pega.com\n",
      "https://design.pega.com/\n",
      "https://www.pega.com/events/pegaworld\n",
      "https://www.pega.com/insights\n",
      "https://www.pega.com/insights/analyst-reports\n",
      "https://www.pega.com/products/explore\n",
      "https://www.pega.com/platform-trial\n",
      "https://www.pega.com/services\n",
      "https://www.pega.com/products/cloud/pega-trust-center\n",
      "https://www.pega.com\n",
      "https://www.pega.com/lang/tr/engineered-for-evolution\n",
      "https://www.pega.com/lang/ru/engineered-for-evolution\n",
      "https://www.pega.com/terms\n",
      "https://www.pega.com/contact-us\n",
      "https://www.pega.com/glossary\n",
      "https://www.pega.com/trademarks\n",
      "https://www.pega.com/privacy-and-security\n",
      "Number of Links Crawled 284\n"
     ]
    }
   ],
   "source": [
    "paragraph_list = crawl_webpage('https://www.pega.com/glossary')"
   ]
  },
  {
   "cell_type": "code",
   "execution_count": 6,
   "metadata": {},
   "outputs": [
    {
     "data": {
      "text/plain": [
       "'pegaworld inspire .'"
      ]
     },
     "execution_count": 6,
     "metadata": {},
     "output_type": "execute_result"
    }
   ],
   "source": [
    "# Test text_to_corpus function\n",
    "text_to_corpus(str(paragraph_list[2]))"
   ]
  },
  {
   "cell_type": "markdown",
   "metadata": {},
   "source": [
    "#### Convert pulled text into a format suitable for training a word2vec model"
   ]
  },
  {
   "cell_type": "code",
   "execution_count": 7,
   "metadata": {},
   "outputs": [],
   "source": [
    "from importlib import reload\n",
    "import tqdm\n",
    "reload(tqdm)\n",
    "from tqdm import tqdm"
   ]
  },
  {
   "cell_type": "code",
   "execution_count": 8,
   "metadata": {},
   "outputs": [
    {
     "name": "stderr",
     "output_type": "stream",
     "text": [
      "100%|██████████| 7209/7209 [02:00<00:00, 60.04it/s] \n"
     ]
    }
   ],
   "source": [
    "# put all crawled paragraphs into one big string and preprocess\n",
    "big_string = ''\n",
    "for paragraph in tqdm(paragraph_list):\n",
    "    big_string += text_to_corpus(str(paragraph)) + ' '"
   ]
  },
  {
   "cell_type": "code",
   "execution_count": 9,
   "metadata": {},
   "outputs": [
    {
     "name": "stdout",
     "output_type": "stream",
     "text": [
      "Total number of sentences in this corpus: 10472 \n",
      "\n",
      "Example Sentences:\n"
     ]
    },
    {
     "data": {
      "text/plain": [
       "[['ebook', '.'],\n",
       " ['case', 'study', '.'],\n",
       " ['pegaworld', 'inspire', '.'],\n",
       " ['adaptive', 'case', 'management', '.'],\n",
       " ['banking', 'business', 'process', '.']]"
      ]
     },
     "execution_count": 9,
     "metadata": {},
     "output_type": "execute_result"
    }
   ],
   "source": [
    "# seperate string into a list of sentences ending with a period - the format \n",
    "# word2vec understands\n",
    "regex = r'\\b\\w+\\b'\n",
    "sentences = big_string.split('.')\n",
    "for i, sentence in enumerate(sentences):\n",
    "    words = re.findall(regex, sentence)\n",
    "    words.append('.')\n",
    "    sentences[i] = words\n",
    "\n",
    "# Inspect the sentences. They are now in proper format for loading into a w2v model.\n",
    "print('Total number of sentences in this corpus:', len(sentences), '\\n\\nExample Sentences:')\n",
    "sentences[:5]"
   ]
  },
  {
   "cell_type": "markdown",
   "metadata": {},
   "source": [
    "#### Save the cleaned and processed pega corpus into a pickle called \"crawl_words\" for future use"
   ]
  },
  {
   "cell_type": "code",
   "execution_count": 10,
   "metadata": {},
   "outputs": [],
   "source": [
    "# save the cleaned and processed pega corpus into a pickle called \"crawl_words\" for future use\n",
    "with open('../data/pickles/crawl_words.pkl', 'wb') as f:\n",
    "    pickle.dump(sentences, f)"
   ]
  },
  {
   "cell_type": "markdown",
   "metadata": {},
   "source": [
    "## Corpus 2: Agile Studio\n",
    "Purpose: Convert Agile Studio epic texts from the past 5 years into a format suitable for a w2v model. We will use these texts to augment the corpus we obtained by crawling the Pega Website"
   ]
  },
  {
   "cell_type": "markdown",
   "metadata": {},
   "source": [
    "#### Step 1: Pull Agile Studio Bugs and Define Corpus:"
   ]
  },
  {
   "cell_type": "code",
   "execution_count": 11,
   "metadata": {},
   "outputs": [],
   "source": [
    "# pull csv\n",
    "astudio_bodies = pd.read_csv(\"../data/csvs/EpicTextForNLP.csv\")"
   ]
  },
  {
   "cell_type": "code",
   "execution_count": 12,
   "metadata": {},
   "outputs": [
    {
     "data": {
      "text/html": [
       "<div>\n",
       "<style scoped>\n",
       "    .dataframe tbody tr th:only-of-type {\n",
       "        vertical-align: middle;\n",
       "    }\n",
       "\n",
       "    .dataframe tbody tr th {\n",
       "        vertical-align: top;\n",
       "    }\n",
       "\n",
       "    .dataframe thead th {\n",
       "        text-align: right;\n",
       "    }\n",
       "</style>\n",
       "<table border=\"1\" class=\"dataframe\">\n",
       "  <thead>\n",
       "    <tr style=\"text-align: right;\">\n",
       "      <th></th>\n",
       "      <th>Epic ID</th>\n",
       "      <th>Label</th>\n",
       "      <th>Description</th>\n",
       "      <th>Update Date/Time</th>\n",
       "    </tr>\n",
       "  </thead>\n",
       "  <tbody>\n",
       "    <tr>\n",
       "      <th>0</th>\n",
       "      <td>EPIC-60115</td>\n",
       "      <td>UX enhancements to Spaces (quick wins)</td>\n",
       "      <td>Below are a list of small UX enhancements for ...</td>\n",
       "      <td>2/3/20 1:48 PM</td>\n",
       "    </tr>\n",
       "    <tr>\n",
       "      <th>1</th>\n",
       "      <td>EPIC-56149</td>\n",
       "      <td>Add support for Websphere Liberty 19</td>\n",
       "      <td>As a...\\n\\nCustomer, \\n\\n\\n\\nI would...\\n\\nlik...</td>\n",
       "      <td>2/3/20 1:26 PM</td>\n",
       "    </tr>\n",
       "    <tr>\n",
       "      <th>2</th>\n",
       "      <td>EPIC-59441</td>\n",
       "      <td>[Regional-ML1] Basic regional UIService - depl...</td>\n",
       "      <td>As a modern cloud service reqional deployment ...</td>\n",
       "      <td>2/3/20 1:00 PM</td>\n",
       "    </tr>\n",
       "    <tr>\n",
       "      <th>3</th>\n",
       "      <td>EPIC-59446</td>\n",
       "      <td>[Regional-MLx] Service scaleability and sharin...</td>\n",
       "      <td>When deployed for Regional use, as a sys admin...</td>\n",
       "      <td>2/3/20 12:56 PM</td>\n",
       "    </tr>\n",
       "    <tr>\n",
       "      <th>4</th>\n",
       "      <td>EPIC-37840</td>\n",
       "      <td>Component build optimization w/cosmos defer load</td>\n",
       "      <td>Create a webpack configuration for both produc...</td>\n",
       "      <td>2/3/20 12:55 PM</td>\n",
       "    </tr>\n",
       "    <tr>\n",
       "      <th>...</th>\n",
       "      <td>...</td>\n",
       "      <td>...</td>\n",
       "      <td>...</td>\n",
       "      <td>...</td>\n",
       "    </tr>\n",
       "    <tr>\n",
       "      <th>7839</th>\n",
       "      <td>EPIC-9994</td>\n",
       "      <td>UIKit Changes for End User Portals</td>\n",
       "      <td>UI Kit updates for end user portals:\\nCase Man...</td>\n",
       "      <td>2/9/15 9:17 AM</td>\n",
       "    </tr>\n",
       "    <tr>\n",
       "      <th>7840</th>\n",
       "      <td>EPIC-9387</td>\n",
       "      <td>PERF: JS Modularization for improved mobile pe...</td>\n",
       "      <td>As a mobile user, I should get the response ti...</td>\n",
       "      <td>2/6/15 4:19 PM</td>\n",
       "    </tr>\n",
       "    <tr>\n",
       "      <th>7841</th>\n",
       "      <td>EPIC-9513</td>\n",
       "      <td>DX: Build from scratch demo enhancements for ML8</td>\n",
       "      <td>As a Pega demoer, I would like to be able to r...</td>\n",
       "      <td>2/4/15 10:07 AM</td>\n",
       "    </tr>\n",
       "    <tr>\n",
       "      <th>7842</th>\n",
       "      <td>EPIC-10940</td>\n",
       "      <td>Efficient offline work in native applications</td>\n",
       "      <td>Native mobile applications should work efficie...</td>\n",
       "      <td>2/4/15 8:51 AM</td>\n",
       "    </tr>\n",
       "    <tr>\n",
       "      <th>7843</th>\n",
       "      <td>EPIC-10698</td>\n",
       "      <td>Mobile SDK - client code generation POC</td>\n",
       "      <td>PRPC is going to expose various APIs allowing ...</td>\n",
       "      <td>2/4/15 8:45 AM</td>\n",
       "    </tr>\n",
       "  </tbody>\n",
       "</table>\n",
       "<p>7844 rows × 4 columns</p>\n",
       "</div>"
      ],
      "text/plain": [
       "         Epic ID                                              Label  \\\n",
       "0     EPIC-60115             UX enhancements to Spaces (quick wins)   \n",
       "1     EPIC-56149               Add support for Websphere Liberty 19   \n",
       "2     EPIC-59441  [Regional-ML1] Basic regional UIService - depl...   \n",
       "3     EPIC-59446  [Regional-MLx] Service scaleability and sharin...   \n",
       "4     EPIC-37840   Component build optimization w/cosmos defer load   \n",
       "...          ...                                                ...   \n",
       "7839   EPIC-9994                 UIKit Changes for End User Portals   \n",
       "7840   EPIC-9387  PERF: JS Modularization for improved mobile pe...   \n",
       "7841   EPIC-9513   DX: Build from scratch demo enhancements for ML8   \n",
       "7842  EPIC-10940      Efficient offline work in native applications   \n",
       "7843  EPIC-10698            Mobile SDK - client code generation POC   \n",
       "\n",
       "                                            Description Update Date/Time  \n",
       "0     Below are a list of small UX enhancements for ...   2/3/20 1:48 PM  \n",
       "1     As a...\\n\\nCustomer, \\n\\n\\n\\nI would...\\n\\nlik...   2/3/20 1:26 PM  \n",
       "2     As a modern cloud service reqional deployment ...   2/3/20 1:00 PM  \n",
       "3     When deployed for Regional use, as a sys admin...  2/3/20 12:56 PM  \n",
       "4     Create a webpack configuration for both produc...  2/3/20 12:55 PM  \n",
       "...                                                 ...              ...  \n",
       "7839  UI Kit updates for end user portals:\\nCase Man...   2/9/15 9:17 AM  \n",
       "7840  As a mobile user, I should get the response ti...   2/6/15 4:19 PM  \n",
       "7841  As a Pega demoer, I would like to be able to r...  2/4/15 10:07 AM  \n",
       "7842  Native mobile applications should work efficie...   2/4/15 8:51 AM  \n",
       "7843  PRPC is going to expose various APIs allowing ...   2/4/15 8:45 AM  \n",
       "\n",
       "[7844 rows x 4 columns]"
      ]
     },
     "execution_count": 12,
     "metadata": {},
     "output_type": "execute_result"
    }
   ],
   "source": [
    "astudio_bodies"
   ]
  },
  {
   "cell_type": "code",
   "execution_count": 13,
   "metadata": {},
   "outputs": [],
   "source": [
    "# rename collumns\n",
    "astudio_bodies = astudio_bodies.rename(columns={\"Epic ID\" : \"epic_id\", \"Label\" : \"label\", \"Description\" : \"description\", \"Update Date/Time\" : \"update date/time\"})"
   ]
  },
  {
   "cell_type": "code",
   "execution_count": 14,
   "metadata": {},
   "outputs": [],
   "source": [
    "# clean astudio_bodies data set by removing null information, duplicates, and applying data cleaning functions\n",
    "astudio_bodies = astudio_bodies[astudio_bodies['label'].notnull()]\n",
    "astudio_bodies = astudio_bodies[astudio_bodies['description'].notnull()]\n",
    "astudio_bodies.drop_duplicates(subset = \"label\", keep = False, inplace = True)\n",
    "\n",
    "astudio_bodies['combined'] = astudio_bodies['label'].map(str) + '.' + ' ' + astudio_bodies['description']"
   ]
  },
  {
   "cell_type": "code",
   "execution_count": 15,
   "metadata": {},
   "outputs": [
    {
     "data": {
      "text/plain": [
       "'Easily reference a data type from a case type form. As a new user defining a case type, I want a simple and intuitive way to reference a data type I defined from a step in my process.\\n\\nUse case: I created a data type for job posting. I want to reference job postings from the first step of my job application case type. I should be able to very simply configure the ability to search for a job posting and pull in associated details. Only the job key should be stored with my case type but I should be able to use it to lookup other data about the job easily.'"
      ]
     },
     "execution_count": 15,
     "metadata": {},
     "output_type": "execute_result"
    }
   ],
   "source": [
    "astudio_bodies['combined'].iloc[6936]"
   ]
  },
  {
   "cell_type": "code",
   "execution_count": 16,
   "metadata": {},
   "outputs": [
    {
     "name": "stderr",
     "output_type": "stream",
     "text": [
      "/root/miniconda3/envs/nlp-workspace/lib/python3.7/site-packages/tqdm/std.py:658: FutureWarning: The Panel class is removed from pandas. Accessing it from the top-level namespace will also be removed in the next version\n",
      "  from pandas import Panel\n"
     ]
    }
   ],
   "source": [
    "tqdm.pandas(desc=\"performing text to corpus conversion\")"
   ]
  },
  {
   "cell_type": "code",
   "execution_count": 17,
   "metadata": {},
   "outputs": [
    {
     "name": "stderr",
     "output_type": "stream",
     "text": [
      "performing text to corpus conversion: 100%|██████████| 7159/7159 [02:37<00:00, 45.52it/s]\n"
     ]
    }
   ],
   "source": [
    "# Apply the `text_to_corpus` function to preproccess epic texts and start to convert to w2v format\n",
    "from tqdm import tqdm\n",
    "astudio_bodies['combined'] = astudio_bodies['combined'].progress_apply(text_to_corpus)"
   ]
  },
  {
   "cell_type": "code",
   "execution_count": 18,
   "metadata": {},
   "outputs": [],
   "source": [
    "# split into sentences (the word2vec format)\n",
    "big_string = ''\n",
    "for paragraph in astudio_bodies['combined']:\n",
    "    big_string += paragraph + ' '\n",
    "    \n",
    "regex = r'\\b\\w+\\b'\n",
    "sentences = big_string.split('.')\n",
    "for i, sentence in enumerate(sentences):\n",
    "    words = re.findall(regex, sentence)\n",
    "    words.append('.')\n",
    "    sentences[i] = words"
   ]
  },
  {
   "cell_type": "markdown",
   "metadata": {},
   "source": [
    "#### Step 2: Combine Pega Crawler Bugs with Agile Studio Bugs:"
   ]
  },
  {
   "cell_type": "code",
   "execution_count": 19,
   "metadata": {},
   "outputs": [
    {
     "name": "stdout",
     "output_type": "stream",
     "text": [
      "Num Sentences in Agile Studio Corpus: 36629\n",
      "Num Sentences in  Agile Studio + Pega Glossary Corpus: 47101\n"
     ]
    }
   ],
   "source": [
    "# pull crawled corpus from \"Pega Corpus\" pickle\n",
    "print('Num Sentences in Agile Studio Corpus:', len(sentences))\n",
    "with open('../data/pickles/crawl_words.pkl', 'rb') as f:\n",
    "    crawl_sentences = pickle.load(f)\n",
    "    \n",
    "sentences.extend(crawl_sentences)\n",
    "print('Num Sentences in  Agile Studio + Pega Glossary Corpus:', len(sentences))"
   ]
  },
  {
   "cell_type": "code",
   "execution_count": 20,
   "metadata": {},
   "outputs": [],
   "source": [
    "# Shuffle up Agile Studio and Pega Website Sentences\n",
    "import random \n",
    "random.shuffle(sentences) # shuffle agile studio / "
   ]
  },
  {
   "cell_type": "code",
   "execution_count": 21,
   "metadata": {},
   "outputs": [],
   "source": [
    "# Save the Combined Pega Corpus:\n",
    "with open('../data/pickles/pega_corpus.pkl', 'wb') as f:\n",
    "    pickle.dump(sentences, f)"
   ]
  },
  {
   "cell_type": "markdown",
   "metadata": {},
   "source": [
    "## Training The Word2Vec Model on the Pega Corpus\n",
    "Now that we've defined a pega corpus, complete with sentences from both the pega website and agiel studio epic texts, we'll train a W2V model to represent the semantic similarity between words in these corpora."
   ]
  },
  {
   "cell_type": "markdown",
   "metadata": {},
   "source": [
    "#### Define Word2Vec Model"
   ]
  },
  {
   "cell_type": "code",
   "execution_count": 22,
   "metadata": {
    "scrolled": true
   },
   "outputs": [],
   "source": [
    "# make word2vec model\n",
    "word_list = sentences\n",
    "EMB_DIM = 300 # The embedding dimension is the size of the embedding vector that respresents each word\n",
    "w2v = Word2Vec(word_list, size=EMB_DIM, window=5, min_count=2, negative=15, iter=10, workers=multiprocessing.cpu_count())"
   ]
  },
  {
   "cell_type": "code",
   "execution_count": 23,
   "metadata": {},
   "outputs": [],
   "source": [
    "# save word2vec model for future use\n",
    "w2v.wv.save(\"../saved_models/word_embeddings/pega_corpus.kv\")"
   ]
  },
  {
   "cell_type": "code",
   "execution_count": 24,
   "metadata": {},
   "outputs": [
    {
     "name": "stdout",
     "output_type": "stream",
     "text": [
      "Most similar words to 'trefler':\n",
      " [('alan', 0.9895352125167847), ('founder', 0.9795060157775879), ('ceo', 0.9764717221260071), ('magazine', 0.9440256357192993)]\n",
      "Most similar words to 'wait':\n",
      " [('delay', 0.7934874892234802), ('second', 0.7325660586357117), ('lose', 0.7165380120277405), ('average', 0.7122946977615356)]\n",
      "Most similar words to 'app':\n",
      " [('application', 0.6767767667770386), ('device', 0.5885218381881714), ('sa', 0.5421031713485718), ('customize', 0.5119743943214417)]\n"
     ]
    }
   ],
   "source": [
    "# test word2vec model by finding similar vectors of known words\n",
    "word_vectors = w2v.wv\n",
    "result = word_vectors.similar_by_word(\"trefler\")\n",
    "print(\"Most similar words to 'trefler':\\n\", result[:4])\n",
    "result = word_vectors.similar_by_word(\"wait\")\n",
    "print(\"Most similar words to 'wait':\\n\", result[:4])\n",
    "result = word_vectors.similar_by_word(\"app\")\n",
    "print(\"Most similar words to 'app':\\n\", result[:4])"
   ]
  },
  {
   "cell_type": "markdown",
   "metadata": {},
   "source": [
    "## Corpus 3: The Brown Corpus\n",
    "Purpose: By simply downloading the brown corpus using NLTK and appending it to our existing pega corpus, we can train w2v model that is a bit more general. By combining pega-specific text & standard english text, we expected that we could derive a W2V model that understood the relationships between standard english words as well as pega terminology."
   ]
  },
  {
   "cell_type": "code",
   "execution_count": 26,
   "metadata": {},
   "outputs": [
    {
     "name": "stderr",
     "output_type": "stream",
     "text": [
      "[nltk_data] Downloading package brown to /root/nltk_data...\n",
      "[nltk_data]   Package brown is already up-to-date!\n"
     ]
    },
    {
     "data": {
      "text/plain": [
       "True"
      ]
     },
     "execution_count": 26,
     "metadata": {},
     "output_type": "execute_result"
    }
   ],
   "source": [
    "# Download & Load the brown corpus\n",
    "import nltk\n",
    "nltk.download('brown')"
   ]
  },
  {
   "cell_type": "code",
   "execution_count": 27,
   "metadata": {},
   "outputs": [],
   "source": [
    "# Get W2V format of brown corpus\n",
    "from nltk.corpus import brown\n",
    "brown_corpus = brown.sents()"
   ]
  },
  {
   "cell_type": "code",
   "execution_count": 28,
   "metadata": {},
   "outputs": [],
   "source": [
    "# Reload Pega Corpus (if it isn't loaded already):\n",
    "with open('../data/pickles/pega_corpus.pkl', 'rb') as f:\n",
    "    pega_corpus = pickle.load(f)"
   ]
  },
  {
   "cell_type": "code",
   "execution_count": 29,
   "metadata": {},
   "outputs": [
    {
     "name": "stdout",
     "output_type": "stream",
     "text": [
      "Brown Corpus Length: 57340\n",
      "Pega Corpus Length: 47101\n"
     ]
    }
   ],
   "source": [
    "print(\"Brown Corpus Length:\", len(brown_corpus))\n",
    "print(\"Pega Corpus Length:\", len(pega_corpus))"
   ]
  },
  {
   "cell_type": "markdown",
   "metadata": {},
   "source": [
    "#### Combine brown and pega corpus, create word2vec model"
   ]
  },
  {
   "cell_type": "code",
   "execution_count": 30,
   "metadata": {},
   "outputs": [],
   "source": [
    "# combine corpuses\n",
    "import random\n",
    "combined_corpus = []\n",
    "combined_corpus.extend(pega_corpus)\n",
    "combined_corpus.extend(brown_corpus)\n",
    "random.shuffle(combined_corpus)"
   ]
  },
  {
   "cell_type": "code",
   "execution_count": 31,
   "metadata": {},
   "outputs": [],
   "source": [
    "# make word2vec model\n",
    "EMB_DIM = 300 # The embedding dimension is the size of the embedding vector that respresents each word\n",
    "w2v = Word2Vec(combined_corpus, size=EMB_DIM, window=5, min_count=5, negative=15, iter=10, workers=multiprocessing.cpu_count())"
   ]
  },
  {
   "cell_type": "code",
   "execution_count": 32,
   "metadata": {},
   "outputs": [
    {
     "name": "stdout",
     "output_type": "stream",
     "text": [
      "Most similar words to 'pega':\n",
      " [('pega7', 0.7314003705978394), ('customize', 0.7154072523117065), ('demo', 0.7009561061859131), ('profile', 0.6969360709190369)]\n",
      "Most similar words to 'nature':\n",
      " [('moral', 0.7723469734191895), ('philosophy', 0.7510935068130493), ('existence', 0.7411466836929321), ('importance', 0.7322114706039429)]\n",
      "Most similar words to 'cloud':\n",
      " [('pegacloud', 0.7072383165359497), ('infinity', 0.7040613889694214), ('azure', 0.7028890252113342), ('pcf', 0.6927876472473145)]\n"
     ]
    }
   ],
   "source": [
    "# test model using kmown keywords\n",
    "word_vectors = w2v.wv\n",
    "result = word_vectors.similar_by_word(\"pega\")\n",
    "print(\"Most similar words to 'pega':\\n\", result[:4])\n",
    "result = word_vectors.similar_by_word(\"nature\")\n",
    "print(\"Most similar words to 'nature':\\n\", result[:4])\n",
    "result = word_vectors.similar_by_word(\"cloud\")\n",
    "print(\"Most similar words to 'cloud':\\n\", result[:4])"
   ]
  },
  {
   "cell_type": "markdown",
   "metadata": {},
   "source": [
    "#### Save word2vec model for future use\n",
    "**Note** that by calling `.wv` we convert the model into a KeyedVector. According to Gensim: \n",
    "        \n",
    "> The reason for separating the trained vectors into KeyedVectors is that if you don’t need the full model state any more (don’t need to continue training), the state can discarded, resulting in a much smaller and faster object that can be mmapped for lightning fast loading and sharing the vectors in RAM between processes."
   ]
  },
  {
   "cell_type": "code",
   "execution_count": 33,
   "metadata": {},
   "outputs": [],
   "source": [
    "w2v.wv.save(\"../saved_models/word_embeddings/combined_corpus.kv\")"
   ]
  }
 ],
 "metadata": {
  "kernelspec": {
   "display_name": "nlp-workspace",
   "language": "python",
   "name": "nlp-workspace"
  },
  "language_info": {
   "codemirror_mode": {
    "name": "ipython",
    "version": 3
   },
   "file_extension": ".py",
   "mimetype": "text/x-python",
   "name": "python",
   "nbconvert_exporter": "python",
   "pygments_lexer": "ipython3",
   "version": "3.7.6"
  }
 },
 "nbformat": 4,
 "nbformat_minor": 4
}
